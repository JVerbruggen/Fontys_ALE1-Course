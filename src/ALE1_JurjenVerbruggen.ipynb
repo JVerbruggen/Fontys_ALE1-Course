{
 "cells": [
  {
   "cell_type": "markdown",
   "metadata": {},
   "source": [
    "## PReader (old)\n",
    "I couldn't make the PReader class be just a recursive algorithm. For long strings, this would mean that the stack would get very big. Some sort of buffer would have to prevent the stack from getting too big while also keeping the right order of characters. \n",
    "\n",
    "I created a char array from the string and a cursor. The cursor is a position indicator for which character is being read. In addition we would have to check for certain trigger characters, like operators for starting a new operation, parentheses to capture the operation in, and letters that would be variables. Taking this into account, we should also create a stack for read operations up until the current character. We would then interpret the operator when a closing parenthesis occurs."
   ]
  },
  {
   "cell_type": "markdown",
   "metadata": {},
   "source": [
    "## Testing arena below"
   ]
  },
  {
   "cell_type": "code",
   "execution_count": 1,
   "metadata": {},
   "outputs": [
    {
     "name": "stdout",
     "output_type": "stream",
     "text": [
      "|(|(A,B),C)\n",
      "((A ∨ B) ∨ C)\n"
     ]
    }
   ],
   "source": [
    "from proposition import *\n",
    "from proposition_operator import *\n",
    "from proposition_parsing import *\n",
    "from proposition_export import *\n",
    "from hashing import *\n",
    "from truthtable import *\n",
    "from debugger import *\n",
    "\n",
    "and_operator = OperatorFactory[AndOperator]\n",
    "or_operator = OperatorFactory[OrOperator]\n",
    "impl_operator = OperatorFactory[ImplicationOperator]\n",
    "biimpl_operator = OperatorFactory[BiimplicationOperator]\n",
    "not_operator = OperatorFactory[NotOperator]\n",
    "\n",
    "prop = CompoundProposition(or_operator,\n",
    "    CompoundProposition(or_operator, Variable('A'), Variable('B')),\n",
    "    Variable('C')\n",
    ")\n",
    "\n",
    "print(prop)\n",
    "print(prop.infix())"
   ]
  },
  {
   "cell_type": "code",
   "execution_count": 2,
   "metadata": {},
   "outputs": [
    {
     "name": "stdout",
     "output_type": "stream",
     "text": [
      "A B C result\n",
      "0 0 0 0\n",
      "0 0 1 1\n",
      "0 1 0 1\n",
      "0 1 1 1\n",
      "1 0 0 1\n",
      "1 0 1 1\n",
      "1 1 0 1\n",
      "1 1 1 1\n",
      "\n"
     ]
    }
   ],
   "source": [
    "truthtable = TruthTable(prop)\n",
    "\n",
    "print(truthtable)"
   ]
  },
  {
   "cell_type": "code",
   "execution_count": 3,
   "metadata": {},
   "outputs": [
    {
     "name": "stdout",
     "output_type": "stream",
     "text": [
      "A B C result\n",
      "0 0 0 0\n",
      "* * 1 1\n",
      "* 1 * 1\n",
      "1 * * 1\n",
      "\n"
     ]
    }
   ],
   "source": [
    "simplified_truthtable = truthtable.simplify()\n",
    "\n",
    "print(simplified_truthtable)"
   ]
  },
  {
   "cell_type": "code",
   "execution_count": 4,
   "metadata": {},
   "outputs": [
    {
     "name": "stdout",
     "output_type": "stream",
     "text": [
      "1110\n",
      "E\n"
     ]
    }
   ],
   "source": [
    "print(simplified_truthtable.get_binary_string())\n",
    "print(simplified_truthtable.get_hash())"
   ]
  },
  {
   "cell_type": "code",
   "execution_count": 5,
   "metadata": {},
   "outputs": [
    {
     "name": "stdout",
     "output_type": "stream",
     "text": [
      "(¬A ∧ ((C => (D ∨ E)) => ¬B))\n",
      "A B C D E result\n",
      "0 0 0 0 0 1\n",
      "0 0 0 0 1 1\n",
      "0 0 0 1 0 1\n",
      "0 0 0 1 1 1\n",
      "0 0 1 0 0 1\n",
      "0 0 1 0 1 1\n",
      "0 0 1 1 0 1\n",
      "0 0 1 1 1 1\n",
      "0 1 0 0 0 0\n",
      "0 1 0 0 1 0\n",
      "0 1 0 1 0 0\n",
      "0 1 0 1 1 0\n",
      "0 1 1 0 0 1\n",
      "0 1 1 0 1 0\n",
      "0 1 1 1 0 0\n",
      "0 1 1 1 1 0\n",
      "1 0 0 0 0 0\n",
      "1 0 0 0 1 0\n",
      "1 0 0 1 0 0\n",
      "1 0 0 1 1 0\n",
      "1 0 1 0 0 0\n",
      "1 0 1 0 1 0\n",
      "1 0 1 1 0 0\n",
      "1 0 1 1 1 0\n",
      "1 1 0 0 0 0\n",
      "1 1 0 0 1 0\n",
      "1 1 0 1 0 0\n",
      "1 1 0 1 1 0\n",
      "1 1 1 0 0 0\n",
      "1 1 1 0 1 0\n",
      "1 1 1 1 0 0\n",
      "1 1 1 1 1 0\n",
      "\n"
     ]
    }
   ],
   "source": [
    "prop = PropositionParser(\"&(~(A),>(>(C,|(D,E)),~(B)))\").read()\n",
    "print(prop.infix())\n",
    "\n",
    "truthtable = TruthTable(prop)\n",
    "print(truthtable)"
   ]
  },
  {
   "cell_type": "code",
   "execution_count": 6,
   "metadata": {},
   "outputs": [
    {
     "name": "stdout",
     "output_type": "stream",
     "text": [
      "A B C D E result\n",
      "0 0 0 0 0 1\n",
      "0 0 0 0 1 1\n",
      "0 0 0 1 0 1\n",
      "0 0 0 1 1 1\n",
      "0 0 1 0 0 1\n",
      "0 0 1 0 1 1\n",
      "0 0 1 1 0 1\n",
      "0 0 1 1 1 1\n",
      "0 1 0 0 0 0\n",
      "0 1 0 0 1 0\n",
      "0 1 0 1 0 0\n",
      "0 1 0 1 1 0\n",
      "0 1 1 0 0 1\n",
      "0 1 1 0 1 0\n",
      "0 1 1 1 0 0\n",
      "0 1 1 1 1 0\n",
      "1 * * * * 0\n",
      "\n",
      "hash: 010FF\n"
     ]
    }
   ],
   "source": [
    "truthtable.simplify()\n",
    "print(truthtable)\n",
    "print(f\"hash: {truthtable.get_hash()}\")"
   ]
  },
  {
   "cell_type": "code",
   "execution_count": 7,
   "metadata": {},
   "outputs": [
    {
     "name": "stdout",
     "output_type": "stream",
     "text": [
      "((¬A ∧ ¬B ∧ ¬C ∧ ¬D ∧ ¬E) ∨ (¬A ∧ ¬B ∧ ¬C ∧ ¬D ∧ E) ∨ (¬A ∧ ¬B ∧ ¬C ∧ D ∧ ¬E) ∨ (¬A ∧ ¬B ∧ ¬C ∧ D ∧ E) ∨ (¬A ∧ ¬B ∧ C ∧ ¬D ∧ ¬E) ∨ (¬A ∧ ¬B ∧ C ∧ ¬D ∧ E) ∨ (¬A ∧ ¬B ∧ C ∧ D ∧ ¬E) ∨ (¬A ∧ ¬B ∧ C ∧ D ∧ E) ∨ (¬A ∧ B ∧ C ∧ ¬D ∧ ¬E))\n",
      "A B C D E result\n",
      "0 0 0 0 0 1\n",
      "0 0 0 0 1 1\n",
      "0 0 0 1 0 1\n",
      "0 0 0 1 1 1\n",
      "0 0 1 0 0 1\n",
      "0 0 1 0 1 1\n",
      "0 0 1 1 0 1\n",
      "0 0 1 1 1 1\n",
      "0 1 0 0 0 0\n",
      "0 1 0 0 1 0\n",
      "0 1 0 1 0 0\n",
      "0 1 0 1 1 0\n",
      "0 1 1 0 0 1\n",
      "0 1 1 0 1 0\n",
      "0 1 1 1 0 0\n",
      "0 1 1 1 1 0\n",
      "1 * * * * 0\n",
      "\n",
      "hash: 010FF\n"
     ]
    }
   ],
   "source": [
    "dnf_prop = truthtable.dnf()\n",
    "print(dnf_prop.infix())\n",
    "\n",
    "dnf_truthtable = TruthTable(dnf_prop)\n",
    "dnf_truthtable.simplify()\n",
    "print(dnf_truthtable)\n",
    "print(f\"hash: {dnf_truthtable.get_hash()}\")"
   ]
  },
  {
   "cell_type": "markdown",
   "metadata": {},
   "source": [
    "# Bigger test cases"
   ]
  },
  {
   "cell_type": "code",
   "execution_count": 8,
   "metadata": {},
   "outputs": [],
   "source": [
    "def print_details(prop1, prop2):\n",
    "    tt1 = TruthTable(prop1)\n",
    "    tt2 = TruthTable(prop2)\n",
    "\n",
    "    print(prop1.infix())\n",
    "    print(tt1)\n",
    "    print(\"hash: \" + tt1.get_hash())\n",
    "    print(prop2.infix())\n",
    "    print(tt2)\n",
    "    print(\"hash: \" + tt2.get_hash())"
   ]
  },
  {
   "cell_type": "code",
   "execution_count": 9,
   "metadata": {},
   "outputs": [
    {
     "name": "stdout",
     "output_type": "stream",
     "text": [
      "analysis - hash: 7 - infix: (¬A ∨ ¬C)\n",
      "analysis - hash: 7 - infix: (¬A ∨ ¬C)\n",
      "analysis - hash: 7 - infix: (¬A ∨ ¬C)\n",
      "analysis - hash: 7 - infix: (¬A ∨ ¬C)\n",
      "analysis - hash: 01 - infix: (¬A ∧ ¬C ∧ ¬B)\n",
      "analysis - hash: 8 - infix: (A ∧ C)\n",
      "analysis - hash: 80 - infix: (A ∧ C ∧ B)\n",
      "analysis - hash: 01 - infix: (¬A ∧ ¬C ∧ ¬B)\n",
      "analysis - hash: 1 - infix: (¬C ∧ ¬B)\n",
      "analysis - hash: 81 - infix: (((A ∧ C) ∧ B) ∨ (¬A ∧ ¬C ∧ ¬B))\n",
      "analysis - hash: 91 - infix: ((A ∨ ¬C) ∧ (A ∨ ¬B) ∧ (C ∨ ¬C) ∧ (C ∨ ¬B) ∧ (B ∨ ¬C) ∧ (B ∨ ¬B))\n",
      "analysis - hash: 81 - infix: (((A ∧ C) ∧ B) ∨ (¬A ∧ ¬C ∧ ¬B))\n",
      "analysis - hash: 91 - infix: ((A ∨ ¬C) ∧ (A ∨ ¬B) ∧ (C ∨ ¬C) ∧ (C ∨ ¬B) ∧ (B ∨ ¬C) ∧ (B ∨ ¬B))\n",
      "((A ∧ C) <=> B)\n",
      "A B C result\n",
      "0 0 0 1\n",
      "0 0 1 1\n",
      "0 1 0 0\n",
      "0 1 1 0\n",
      "1 0 0 1\n",
      "1 0 1 0\n",
      "1 1 0 0\n",
      "1 1 1 1\n",
      "\n",
      "hash: 93\n",
      "((A ∨ ¬C) ∧ (A ∨ ¬B) ∧ (C ∨ ¬C) ∧ (C ∨ ¬B) ∧ (B ∨ ¬C) ∧ (B ∨ ¬B))\n",
      "A B C result\n",
      "0 0 0 1\n",
      "0 0 1 0\n",
      "0 1 0 0\n",
      "0 1 1 0\n",
      "1 0 0 1\n",
      "1 0 1 0\n",
      "1 1 0 0\n",
      "1 1 1 1\n",
      "\n",
      "hash: 91\n"
     ]
    }
   ],
   "source": [
    "# prop = PropositionParser(\"~(~(=(~(~(&(A,C))),B)))\").read()\n",
    "prop = PropositionParser(\"=(&(A,C),B)\").read()\n",
    "\n",
    "tfunc = lambda x : ()\n",
    "analysis_hash = lambda prop : print(f\"analysis - hash: {TruthTable(prop).get_hash()} - infix: {prop.infix()}\")\n",
    "analyzing_functions = [analysis_hash]\n",
    "print_details(prop, prop.cnf(debugger=Debugger(trace_function=tfunc, analyzing_functions=analyzing_functions))) # I have been trying to fix this but I cant get 100% correctness"
   ]
  },
  {
   "cell_type": "code",
   "execution_count": 10,
   "metadata": {},
   "outputs": [
    {
     "name": "stdout",
     "output_type": "stream",
     "text": [
      "((A ∧ C) <=> B)\n",
      "A B C result\n",
      "0 0 0 1\n",
      "0 0 1 1\n",
      "0 1 0 0\n",
      "0 1 1 0\n",
      "1 0 0 1\n",
      "1 0 1 0\n",
      "1 1 0 0\n",
      "1 1 1 1\n",
      "\n",
      "hash: 93\n",
      "(((A ∧ C) ∧ B) ∨ (¬(A ∧ C) ∧ ¬B))\n",
      "A B C result\n",
      "0 0 0 1\n",
      "0 0 1 1\n",
      "0 1 0 0\n",
      "0 1 1 0\n",
      "1 0 0 1\n",
      "1 0 1 0\n",
      "1 1 0 0\n",
      "1 1 1 1\n",
      "\n",
      "hash: 93\n"
     ]
    }
   ],
   "source": [
    "print_details(prop, PropositionParser(\"|(&(&(A,C),B),&(~(&(A,C)),~(B)))\").read())"
   ]
  }
 ],
 "metadata": {
  "interpreter": {
   "hash": "883c4abf4a0508d0816d710d3d2bf12d5dead1f2acd091a24a7c12c2b379361b"
  },
  "kernelspec": {
   "display_name": "Python 3.9.7 64-bit",
   "name": "python3"
  },
  "language_info": {
   "codemirror_mode": {
    "name": "ipython",
    "version": 3
   },
   "file_extension": ".py",
   "mimetype": "text/x-python",
   "name": "python",
   "nbconvert_exporter": "python",
   "pygments_lexer": "ipython3",
   "version": "3.9.7"
  },
  "orig_nbformat": 4
 },
 "nbformat": 4,
 "nbformat_minor": 2
}
