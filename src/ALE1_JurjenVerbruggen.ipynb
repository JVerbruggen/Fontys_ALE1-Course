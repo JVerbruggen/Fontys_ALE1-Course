{
 "cells": [
  {
   "cell_type": "markdown",
   "metadata": {},
   "source": [
    "## PReader (old)\n",
    "I couldn't make the PReader class be just a recursive algorithm. For long strings, this would mean that the stack would get very big. Some sort of buffer would have to prevent the stack from getting too big while also keeping the right order of characters. \n",
    "\n",
    "I created a char array from the string and a cursor. The cursor is a position indicator for which character is being read. In addition we would have to check for certain trigger characters, like operators for starting a new operation, parentheses to capture the operation in, and letters that would be variables. Taking this into account, we should also create a stack for read operations up until the current character. We would then interpret the operator when a closing parenthesis occurs."
   ]
  },
  {
   "cell_type": "markdown",
   "metadata": {},
   "source": [
    "## Testing arena below"
   ]
  },
  {
   "cell_type": "code",
   "execution_count": 1,
   "metadata": {},
   "outputs": [
    {
     "name": "stdout",
     "output_type": "stream",
     "text": [
      "|(|(A,B),C)\n",
      "((A ∨ B) ∨ C)\n"
     ]
    }
   ],
   "source": [
    "from proposition import *\n",
    "from proposition_parsing import *\n",
    "from proposition_export import *\n",
    "from hashing import *\n",
    "from truthtable import *\n",
    "from debugger import *\n",
    "\n",
    "prop = OrProposition(OrProposition(Variable('A'), Variable('B')),\n",
    "    Variable('C')\n",
    ")\n",
    "\n",
    "print(prop)\n",
    "print(prop.infix())"
   ]
  },
  {
   "cell_type": "code",
   "execution_count": 2,
   "metadata": {},
   "outputs": [
    {
     "name": "stdout",
     "output_type": "stream",
     "text": [
      "A B C result\n",
      "0 0 0 0\n",
      "0 0 1 1\n",
      "0 1 0 1\n",
      "0 1 1 1\n",
      "1 0 0 1\n",
      "1 0 1 1\n",
      "1 1 0 1\n",
      "1 1 1 1\n",
      "\n"
     ]
    }
   ],
   "source": [
    "truthtable = TruthTable(prop)\n",
    "\n",
    "print(truthtable)"
   ]
  },
  {
   "cell_type": "code",
   "execution_count": 3,
   "metadata": {},
   "outputs": [
    {
     "name": "stdout",
     "output_type": "stream",
     "text": [
      "A B C result\n",
      "0 0 0 0\n",
      "* * 1 1\n",
      "* 1 * 1\n",
      "1 * * 1\n",
      "\n"
     ]
    }
   ],
   "source": [
    "simplified_truthtable = truthtable.simplify()\n",
    "\n",
    "print(simplified_truthtable)"
   ]
  },
  {
   "cell_type": "code",
   "execution_count": 4,
   "metadata": {},
   "outputs": [
    {
     "name": "stdout",
     "output_type": "stream",
     "text": [
      "1110\n",
      "E\n"
     ]
    }
   ],
   "source": [
    "print(simplified_truthtable.get_binary_string())\n",
    "print(simplified_truthtable.get_hash())"
   ]
  },
  {
   "cell_type": "code",
   "execution_count": 5,
   "metadata": {},
   "outputs": [
    {
     "name": "stdout",
     "output_type": "stream",
     "text": [
      "(¬A ∧ ((C => (D ∨ E)) => ¬B))\n",
      "A B C D E result\n",
      "0 0 0 0 0 1\n",
      "0 0 0 0 1 1\n",
      "0 0 0 1 0 1\n",
      "0 0 0 1 1 1\n",
      "0 0 1 0 0 1\n",
      "0 0 1 0 1 1\n",
      "0 0 1 1 0 1\n",
      "0 0 1 1 1 1\n",
      "0 1 0 0 0 0\n",
      "0 1 0 0 1 0\n",
      "0 1 0 1 0 0\n",
      "0 1 0 1 1 0\n",
      "0 1 1 0 0 1\n",
      "0 1 1 0 1 0\n",
      "0 1 1 1 0 0\n",
      "0 1 1 1 1 0\n",
      "1 0 0 0 0 0\n",
      "1 0 0 0 1 0\n",
      "1 0 0 1 0 0\n",
      "1 0 0 1 1 0\n",
      "1 0 1 0 0 0\n",
      "1 0 1 0 1 0\n",
      "1 0 1 1 0 0\n",
      "1 0 1 1 1 0\n",
      "1 1 0 0 0 0\n",
      "1 1 0 0 1 0\n",
      "1 1 0 1 0 0\n",
      "1 1 0 1 1 0\n",
      "1 1 1 0 0 0\n",
      "1 1 1 0 1 0\n",
      "1 1 1 1 0 0\n",
      "1 1 1 1 1 0\n",
      "\n"
     ]
    }
   ],
   "source": [
    "prop = PropositionParser(\"&(~(A),>(>(C,|(D,E)),~(B)))\").read()\n",
    "print(prop.infix())\n",
    "\n",
    "truthtable = TruthTable(prop)\n",
    "print(truthtable)"
   ]
  },
  {
   "cell_type": "code",
   "execution_count": 6,
   "metadata": {},
   "outputs": [
    {
     "name": "stdout",
     "output_type": "stream",
     "text": [
      "A B C D E result\n",
      "0 0 0 0 0 1\n",
      "0 0 0 0 1 1\n",
      "0 0 0 1 0 1\n",
      "0 0 0 1 1 1\n",
      "0 0 1 0 0 1\n",
      "0 0 1 0 1 1\n",
      "0 0 1 1 0 1\n",
      "0 0 1 1 1 1\n",
      "0 1 0 0 0 0\n",
      "0 1 0 0 1 0\n",
      "0 1 0 1 0 0\n",
      "0 1 0 1 1 0\n",
      "0 1 1 0 0 1\n",
      "0 1 1 0 1 0\n",
      "0 1 1 1 0 0\n",
      "0 1 1 1 1 0\n",
      "1 * * * * 0\n",
      "\n",
      "hash: 010FF\n"
     ]
    }
   ],
   "source": [
    "truthtable.simplify()\n",
    "print(truthtable)\n",
    "print(f\"hash: {truthtable.get_hash()}\")"
   ]
  },
  {
   "cell_type": "code",
   "execution_count": 7,
   "metadata": {},
   "outputs": [
    {
     "name": "stdout",
     "output_type": "stream",
     "text": [
      "((¬A ∧ ¬B ∧ ¬C ∧ ¬D ∧ ¬E) ∨ (¬A ∧ ¬B ∧ ¬C ∧ ¬D ∧ E) ∨ (¬A ∧ ¬B ∧ ¬C ∧ D ∧ ¬E) ∨ (¬A ∧ ¬B ∧ ¬C ∧ D ∧ E) ∨ (¬A ∧ ¬B ∧ C ∧ ¬D ∧ ¬E) ∨ (¬A ∧ ¬B ∧ C ∧ ¬D ∧ E) ∨ (¬A ∧ ¬B ∧ C ∧ D ∧ ¬E) ∨ (¬A ∧ ¬B ∧ C ∧ D ∧ E) ∨ (¬A ∧ B ∧ C ∧ ¬D ∧ ¬E))\n",
      "A B C D E result\n",
      "0 0 0 0 0 1\n",
      "0 0 0 0 1 1\n",
      "0 0 0 1 0 1\n",
      "0 0 0 1 1 1\n",
      "0 0 1 0 0 1\n",
      "0 0 1 0 1 1\n",
      "0 0 1 1 0 1\n",
      "0 0 1 1 1 1\n",
      "0 1 0 0 0 0\n",
      "0 1 0 0 1 0\n",
      "0 1 0 1 0 0\n",
      "0 1 0 1 1 0\n",
      "0 1 1 0 0 1\n",
      "0 1 1 0 1 0\n",
      "0 1 1 1 0 0\n",
      "0 1 1 1 1 0\n",
      "1 * * * * 0\n",
      "\n",
      "hash: 010FF\n"
     ]
    }
   ],
   "source": [
    "dnf_prop = truthtable.dnf()\n",
    "print(dnf_prop.infix())\n",
    "\n",
    "dnf_truthtable = TruthTable(dnf_prop)\n",
    "dnf_truthtable.simplify()\n",
    "print(dnf_truthtable)\n",
    "print(f\"hash: {dnf_truthtable.get_hash()}\")"
   ]
  },
  {
   "cell_type": "markdown",
   "metadata": {},
   "source": [
    "# Bigger test cases"
   ]
  },
  {
   "cell_type": "code",
   "execution_count": 8,
   "metadata": {},
   "outputs": [],
   "source": [
    "def print_details(prop1, prop2):\n",
    "    tt1 = TruthTable(prop1)\n",
    "    tt2 = TruthTable(prop2)\n",
    "\n",
    "    print(prop1.infix())\n",
    "    print(prop1.ascii())\n",
    "    print(tt1)\n",
    "    print(\"hash: \" + tt1.get_hash())\n",
    "    print(prop2.infix())\n",
    "    print(prop2.ascii())\n",
    "    print(tt2)\n",
    "    print(\"hash: \" + tt2.get_hash())"
   ]
  },
  {
   "cell_type": "code",
   "execution_count": 9,
   "metadata": {},
   "outputs": [
    {
     "name": "stdout",
     "output_type": "stream",
     "text": [
      "start with: =(&(A,C),B)\n",
      "analysis - hash: 93 - infix: ((A ∧ C) <=> B)\n",
      "analysis - hash: 7 - infix: (¬A ∨ ¬C)\n",
      "OR1: ~(A)\n",
      "OR2: ~(C)\n",
      "*&([*|([~(A),~(C)])])\n",
      "analysis - hash: 7 - infix: ((¬A ∨ ¬C))\n",
      "in NOT (and): |(~(A),~(C))\n",
      "analysis - hash: 7 - infix: (¬A ∨ ¬C)\n",
      "in NOT after (and): *&([*|([~(A),~(C)])])\n",
      "analysis - hash: 7 - infix: ((¬A ∨ ¬C))\n",
      "analysis - hash: 93 - infix: (((A ∧ C) ∧ B) ∨ (¬(A ∧ C) ∧ ¬B))\n",
      "OR1: *&([A,C,B])\n",
      "OR2: *&([*|([~(A),~(C)]),~(B)])\n",
      "*&([*|([A,~(A),~(C)]),*|([A,~(B)]),*|([C,~(A),~(C)]),*|([C,~(B)]),*|([B,~(A),~(C)]),*|([B,~(B)])])\n",
      "analysis - hash: 93 - infix: ((A ∨ ¬A ∨ ¬C) ∧ (A ∨ ¬B) ∧ (C ∨ ¬A ∨ ¬C) ∧ (C ∨ ¬B) ∧ (B ∨ ¬A ∨ ¬C) ∧ (B ∨ ¬B))\n",
      "*&([*|([A,~(A),~(C)]),*|([A,~(B)]),*|([C,~(A),~(C)]),*|([C,~(B)]),*|([B,~(A),~(C)]),*|([B,~(B)])])\n",
      "analysis - hash: 93 - infix: ((A ∨ ¬A ∨ ¬C) ∧ (A ∨ ¬B) ∧ (C ∨ ¬A ∨ ¬C) ∧ (C ∨ ¬B) ∧ (B ∨ ¬A ∨ ¬C) ∧ (B ∨ ¬B))\n",
      "before contradiction removal: *&([*|([A,~(A),~(C)]),*|([A,~(B)]),*|([C,~(A),~(C)]),*|([C,~(B)]),*|([B,~(A),~(C)]),*|([B,~(B)])])\n",
      "analysis - hash: 93 - infix: ((A ∨ ¬A ∨ ¬C) ∧ (A ∨ ¬B) ∧ (C ∨ ¬A ∨ ¬C) ∧ (C ∨ ¬B) ∧ (B ∨ ¬A ∨ ¬C) ∧ (B ∨ ¬B))\n",
      "after contradiction removal: *&([*|([A,~(B)]),*|([C,~(B)]),*|([B,~(A),~(C)])])\n",
      "analysis - hash: 93 - infix: ((A ∨ ¬B) ∧ (C ∨ ¬B) ∧ (B ∨ ¬A ∨ ¬C))\n",
      "((A ∧ C) <=> B)\n",
      "=(&(A,C),B)\n",
      "A B C result\n",
      "0 0 0 1\n",
      "0 0 1 1\n",
      "0 1 0 0\n",
      "0 1 1 0\n",
      "1 0 0 1\n",
      "1 0 1 0\n",
      "1 1 0 0\n",
      "1 1 1 1\n",
      "\n",
      "hash: 93\n",
      "((A ∨ ¬B) ∧ (C ∨ ¬B) ∧ (B ∨ ¬A ∨ ¬C))\n",
      "&(|(A,~(B)),&(|(C,~(B)),|(B,|(~(A),~(C)))))\n",
      "A B C result\n",
      "0 0 0 1\n",
      "0 0 1 1\n",
      "0 1 0 0\n",
      "0 1 1 0\n",
      "1 0 0 1\n",
      "1 0 1 0\n",
      "1 1 0 0\n",
      "1 1 1 1\n",
      "\n",
      "hash: 93\n"
     ]
    }
   ],
   "source": [
    "# prop = PropositionParser(\"~(~(=(~(~(&(A,C))),B)))\").read()\n",
    "prop = PropositionParser(\"=(&(A,C),B)\").read()\n",
    "\n",
    "tfunc = lambda x : print(f\"{x}\")\n",
    "analysis_hash = lambda prop : print(f\"analysis - hash: {TruthTable(prop).get_hash()} - infix: {prop.infix()}\")\n",
    "analyzing_functions = [analysis_hash]\n",
    "prop_cnf = prop.cnf(debugger=Debugger(trace_function=tfunc, analyzing_functions=analyzing_functions))\n",
    "print_details(prop, prop_cnf) "
   ]
  },
  {
   "cell_type": "code",
   "execution_count": 10,
   "metadata": {},
   "outputs": [
    {
     "name": "stdout",
     "output_type": "stream",
     "text": [
      "((A ∧ C) <=> B)\n",
      "=(&(A,C),B)\n",
      "A B C result\n",
      "0 0 0 1\n",
      "0 0 1 1\n",
      "0 1 0 0\n",
      "0 1 1 0\n",
      "1 0 0 1\n",
      "1 0 1 0\n",
      "1 1 0 0\n",
      "1 1 1 1\n",
      "\n",
      "hash: 93\n",
      "(((A ∧ C) ∧ B) ∨ (¬(A ∧ C) ∧ ¬B))\n",
      "|(&(&(A,C),B),&(~(&(A,C)),~(B)))\n",
      "A B C result\n",
      "0 0 0 1\n",
      "0 0 1 1\n",
      "0 1 0 0\n",
      "0 1 1 0\n",
      "1 0 0 1\n",
      "1 0 1 0\n",
      "1 1 0 0\n",
      "1 1 1 1\n",
      "\n",
      "hash: 93\n"
     ]
    }
   ],
   "source": [
    "print_details(prop, PropositionParser(\"|(&(&(A,C),B),&(~(&(A,C)),~(B)))\").read())"
   ]
  },
  {
   "cell_type": "code",
   "execution_count": 11,
   "metadata": {},
   "outputs": [
    {
     "name": "stdout",
     "output_type": "stream",
     "text": [
      "Expected hash: A80802A2\n",
      "start with: &(E,=(A,|(&(B,C),&(D,~(C)))))\n",
      "analysis - hash: A80802A2 - infix: (E ∧ (A <=> ((B ∧ C) ∨ (D ∧ ¬C))))\n",
      "analysis - hash: E2 - infix: ((B ∧ C) ∨ (D ∧ ¬C))\n",
      "OR1: *&([B,C])\n",
      "OR2: *&([D,~(C)])\n",
      "*&([*|([B,D]),*|([B,~(C)]),*|([C,D]),*|([C,~(C)])])\n",
      "analysis - hash: E2 - infix: ((B ∨ D) ∧ (B ∨ ¬C) ∧ (C ∨ D) ∧ (C ∨ ¬C))\n",
      "analysis - hash: 7 - infix: (¬B ∨ ¬C)\n",
      "OR1: ~(B)\n",
      "OR2: ~(C)\n",
      "*&([*|([~(B),~(C)])])\n",
      "analysis - hash: 7 - infix: ((¬B ∨ ¬C))\n",
      "in NOT (and): |(~(B),~(C))\n",
      "analysis - hash: 7 - infix: (¬B ∨ ¬C)\n",
      "in NOT after (and): *&([*|([~(B),~(C)])])\n",
      "analysis - hash: 7 - infix: ((¬B ∨ ¬C))\n",
      "analysis - hash: D - infix: (¬D ∨ ¬¬C)\n",
      "OR1: ~(D)\n",
      "OR2: C\n",
      "*&([*|([~(D),C])])\n",
      "analysis - hash: D - infix: ((¬D ∨ C))\n",
      "in NOT (and): |(~(D),~(~(C)))\n",
      "analysis - hash: D - infix: (¬D ∨ ¬¬C)\n",
      "in NOT after (and): *&([*|([~(D),C])])\n",
      "analysis - hash: D - infix: ((¬D ∨ C))\n",
      "in NOT (or): &(~(&(B,C)),~(&(D,~(C))))\n",
      "analysis - hash: 1D - infix: (¬(B ∧ C) ∧ ¬(D ∧ ¬C))\n",
      "in NOT after (or): *&([*|([~(B),~(C)]),*|([~(D),C])])\n",
      "analysis - hash: 1D - infix: ((¬B ∨ ¬C) ∧ (¬D ∨ C))\n",
      "analysis - hash: E21D - infix: ((A ∧ ((B ∧ C) ∨ (D ∧ ¬C))) ∨ (¬A ∧ ¬((B ∧ C) ∨ (D ∧ ¬C))))\n",
      "OR1: *&([A,*|([B,D]),*|([B,~(C)]),*|([C,D]),*|([C,~(C)])])\n",
      "OR2: *&([~(A),*|([~(B),~(C)]),*|([~(D),C])])\n",
      "*&([*|([A,~(A)]),*|([A,~(B),~(C)]),*|([A,~(D),C]),*|([B,D,~(A)]),*|([B,D,~(B),~(C)]),*|([B,D,~(D),C]),*|([B,~(C),~(A)]),*|([B,~(C),~(B),~(C)]),*|([B,~(C),~(D),C]),*|([C,D,~(A)]),*|([C,D,~(B),~(C)]),*|([C,D,~(D),C]),*|([C,~(C),~(A)]),*|([C,~(C),~(B),~(C)]),*|([C,~(C),~(D),C])])\n",
      "analysis - hash: E21D - infix: ((A ∨ ¬A) ∧ (A ∨ ¬B ∨ ¬C) ∧ (A ∨ ¬D ∨ C) ∧ (B ∨ D ∨ ¬A) ∧ (B ∨ D ∨ ¬B ∨ ¬C) ∧ (B ∨ D ∨ ¬D ∨ C) ∧ (B ∨ ¬C ∨ ¬A) ∧ (B ∨ ¬C ∨ ¬B ∨ ¬C) ∧ (B ∨ ¬C ∨ ¬D ∨ C) ∧ (C ∨ D ∨ ¬A) ∧ (C ∨ D ∨ ¬B ∨ ¬C) ∧ (C ∨ D ∨ ¬D ∨ C) ∧ (C ∨ ¬C ∨ ¬A) ∧ (C ∨ ¬C ∨ ¬B ∨ ¬C) ∧ (C ∨ ¬C ∨ ¬D ∨ C))\n",
      "*&([*|([A,~(A)]),*|([A,~(B),~(C)]),*|([A,~(D),C]),*|([B,D,~(A)]),*|([B,D,~(B),~(C)]),*|([B,D,~(D),C]),*|([B,~(C),~(A)]),*|([B,~(C),~(B),~(C)]),*|([B,~(C),~(D),C]),*|([C,D,~(A)]),*|([C,D,~(B),~(C)]),*|([C,D,~(D),C]),*|([C,~(C),~(A)]),*|([C,~(C),~(B),~(C)]),*|([C,~(C),~(D),C])])\n",
      "analysis - hash: E21D - infix: ((A ∨ ¬A) ∧ (A ∨ ¬B ∨ ¬C) ∧ (A ∨ ¬D ∨ C) ∧ (B ∨ D ∨ ¬A) ∧ (B ∨ D ∨ ¬B ∨ ¬C) ∧ (B ∨ D ∨ ¬D ∨ C) ∧ (B ∨ ¬C ∨ ¬A) ∧ (B ∨ ¬C ∨ ¬B ∨ ¬C) ∧ (B ∨ ¬C ∨ ¬D ∨ C) ∧ (C ∨ D ∨ ¬A) ∧ (C ∨ D ∨ ¬B ∨ ¬C) ∧ (C ∨ D ∨ ¬D ∨ C) ∧ (C ∨ ¬C ∨ ¬A) ∧ (C ∨ ¬C ∨ ¬B ∨ ¬C) ∧ (C ∨ ¬C ∨ ¬D ∨ C))\n",
      "before contradiction removal: *&([E,*|([A,~(A)]),*|([A,~(B),~(C)]),*|([A,~(D),C]),*|([B,D,~(A)]),*|([B,D,~(B),~(C)]),*|([B,D,~(D),C]),*|([B,~(C),~(A)]),*|([B,~(C),~(B),~(C)]),*|([B,~(C),~(D),C]),*|([C,D,~(A)]),*|([C,D,~(B),~(C)]),*|([C,D,~(D),C]),*|([C,~(C),~(A)]),*|([C,~(C),~(B),~(C)]),*|([C,~(C),~(D),C])])\n",
      "analysis - hash: A80802A2 - infix: (E ∧ (A ∨ ¬A) ∧ (A ∨ ¬B ∨ ¬C) ∧ (A ∨ ¬D ∨ C) ∧ (B ∨ D ∨ ¬A) ∧ (B ∨ D ∨ ¬B ∨ ¬C) ∧ (B ∨ D ∨ ¬D ∨ C) ∧ (B ∨ ¬C ∨ ¬A) ∧ (B ∨ ¬C ∨ ¬B ∨ ¬C) ∧ (B ∨ ¬C ∨ ¬D ∨ C) ∧ (C ∨ D ∨ ¬A) ∧ (C ∨ D ∨ ¬B ∨ ¬C) ∧ (C ∨ D ∨ ¬D ∨ C) ∧ (C ∨ ¬C ∨ ¬A) ∧ (C ∨ ¬C ∨ ¬B ∨ ¬C) ∧ (C ∨ ¬C ∨ ¬D ∨ C))\n",
      "after contradiction removal: *&([E,*|([A,~(B),~(C)]),*|([A,~(D),C]),*|([B,D,~(A)]),*|([B,~(C),~(A)]),*|([C,D,~(A)])])\n",
      "analysis - hash: A80802A2 - infix: (E ∧ (A ∨ ¬B ∨ ¬C) ∧ (A ∨ ¬D ∨ C) ∧ (B ∨ D ∨ ¬A) ∧ (B ∨ ¬C ∨ ¬A) ∧ (C ∨ D ∨ ¬A))\n",
      "cnf notation: [ E , Abc , AdC , BDa , Bca , CDa ]\n"
     ]
    }
   ],
   "source": [
    "from equality_tester import *\n",
    "# prop = PropositionParser(\"=(&(A,C),B)\").read()\n",
    "prop = PropositionParser(\"&(E,=(A,|(&(B,C),&(D,~(C)))))\").read()\n",
    "print(f\"Expected hash: {TruthTable(prop).get_hash()}\")\n",
    "prop_cnf = prop.cnf(\n",
    "    debugger=Debugger(\n",
    "        trace_function=tfunc, \n",
    "        analyzing_functions=analyzing_functions\n",
    "    ))\n",
    "\n",
    "print(f\"cnf notation: {prop_cnf.cnf_notation()}\")"
   ]
  },
  {
   "cell_type": "code",
   "execution_count": 12,
   "metadata": {},
   "outputs": [
    {
     "name": "stdout",
     "output_type": "stream",
     "text": [
      "Hash: A80802A2\n"
     ]
    }
   ],
   "source": [
    "prop = PropositionCNFFormatParser(\"[ E , Abc , AdC , BDa , Bca , CDa ]\").read()\n",
    "prop.infix()\n",
    "print(f\"Hash: {TruthTable(prop).get_hash()}\")"
   ]
  }
 ],
 "metadata": {
  "interpreter": {
   "hash": "883c4abf4a0508d0816d710d3d2bf12d5dead1f2acd091a24a7c12c2b379361b"
  },
  "kernelspec": {
   "display_name": "Python 3.9.7 64-bit",
   "name": "python3"
  },
  "language_info": {
   "codemirror_mode": {
    "name": "ipython",
    "version": 3
   },
   "file_extension": ".py",
   "mimetype": "text/x-python",
   "name": "python",
   "nbconvert_exporter": "python",
   "pygments_lexer": "ipython3",
   "version": "3.9.7"
  },
  "orig_nbformat": 4
 },
 "nbformat": 4,
 "nbformat_minor": 2
}
