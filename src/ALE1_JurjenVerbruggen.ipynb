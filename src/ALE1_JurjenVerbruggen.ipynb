{
 "cells": [
  {
   "cell_type": "markdown",
   "metadata": {},
   "source": [
    "## PReader (old)\n",
    "I couldn't make the PReader class be just a recursive algorithm. For long strings, this would mean that the stack would get very big. Some sort of buffer would have to prevent the stack from getting too big while also keeping the right order of characters. \n",
    "\n",
    "I created a char array from the string and a cursor. The cursor is a position indicator for which character is being read. In addition we would have to check for certain trigger characters, like operators for starting a new operation, parentheses to capture the operation in, and letters that would be variables. Taking this into account, we should also create a stack for read operations up until the current character. We would then interpret the operator when a closing parenthesis occurs."
   ]
  },
  {
   "cell_type": "markdown",
   "metadata": {},
   "source": [
    "## Testing arena below"
   ]
  },
  {
   "cell_type": "code",
   "execution_count": 1,
   "metadata": {},
   "outputs": [
    {
     "name": "stdout",
     "output_type": "stream",
     "text": [
      "|(|(A,B),C)\n",
      "((A ∨ B) ∨ C)\n"
     ]
    }
   ],
   "source": [
    "from proposition import *\n",
    "from proposition_parsing import *\n",
    "from proposition_export import *\n",
    "from hashing import *\n",
    "from truthtable import *\n",
    "from debugger import *\n",
    "\n",
    "prop = OrProposition(OrProposition(Variable('A'), Variable('B')),\n",
    "    Variable('C')\n",
    ")\n",
    "\n",
    "print(prop)\n",
    "print(prop.infix())"
   ]
  },
  {
   "cell_type": "code",
   "execution_count": 2,
   "metadata": {},
   "outputs": [
    {
     "name": "stdout",
     "output_type": "stream",
     "text": [
      "A B C result\n",
      "0 0 0 0\n",
      "0 0 1 1\n",
      "0 1 0 1\n",
      "0 1 1 1\n",
      "1 0 0 1\n",
      "1 0 1 1\n",
      "1 1 0 1\n",
      "1 1 1 1\n",
      "\n"
     ]
    }
   ],
   "source": [
    "truthtable = TruthTable(prop)\n",
    "\n",
    "print(truthtable)"
   ]
  },
  {
   "cell_type": "code",
   "execution_count": 3,
   "metadata": {},
   "outputs": [
    {
     "name": "stdout",
     "output_type": "stream",
     "text": [
      "A B C result\n",
      "0 0 0 0\n",
      "* * 1 1\n",
      "* 1 * 1\n",
      "1 * * 1\n",
      "\n"
     ]
    }
   ],
   "source": [
    "simplified_truthtable = truthtable.simplify()\n",
    "\n",
    "print(simplified_truthtable)"
   ]
  },
  {
   "cell_type": "code",
   "execution_count": 4,
   "metadata": {},
   "outputs": [
    {
     "name": "stdout",
     "output_type": "stream",
     "text": [
      "1110\n",
      "E\n"
     ]
    }
   ],
   "source": [
    "print(simplified_truthtable.get_binary_string())\n",
    "print(simplified_truthtable.get_hash())"
   ]
  },
  {
   "cell_type": "code",
   "execution_count": 5,
   "metadata": {},
   "outputs": [
    {
     "name": "stdout",
     "output_type": "stream",
     "text": [
      "(¬A ∧ ((C => (D ∨ E)) => ¬B))\n",
      "A B C D E result\n",
      "0 0 0 0 0 1\n",
      "0 0 0 0 1 1\n",
      "0 0 0 1 0 1\n",
      "0 0 0 1 1 1\n",
      "0 0 1 0 0 1\n",
      "0 0 1 0 1 1\n",
      "0 0 1 1 0 1\n",
      "0 0 1 1 1 1\n",
      "0 1 0 0 0 0\n",
      "0 1 0 0 1 0\n",
      "0 1 0 1 0 0\n",
      "0 1 0 1 1 0\n",
      "0 1 1 0 0 1\n",
      "0 1 1 0 1 0\n",
      "0 1 1 1 0 0\n",
      "0 1 1 1 1 0\n",
      "1 0 0 0 0 0\n",
      "1 0 0 0 1 0\n",
      "1 0 0 1 0 0\n",
      "1 0 0 1 1 0\n",
      "1 0 1 0 0 0\n",
      "1 0 1 0 1 0\n",
      "1 0 1 1 0 0\n",
      "1 0 1 1 1 0\n",
      "1 1 0 0 0 0\n",
      "1 1 0 0 1 0\n",
      "1 1 0 1 0 0\n",
      "1 1 0 1 1 0\n",
      "1 1 1 0 0 0\n",
      "1 1 1 0 1 0\n",
      "1 1 1 1 0 0\n",
      "1 1 1 1 1 0\n",
      "\n"
     ]
    }
   ],
   "source": [
    "prop = PropositionParser(\"&(~(A),>(>(C,|(D,E)),~(B)))\").read()\n",
    "print(prop.infix())\n",
    "\n",
    "truthtable = TruthTable(prop)\n",
    "print(truthtable)"
   ]
  },
  {
   "cell_type": "code",
   "execution_count": 6,
   "metadata": {},
   "outputs": [
    {
     "name": "stdout",
     "output_type": "stream",
     "text": [
      "A B C D E result\n",
      "0 0 0 0 0 1\n",
      "0 0 0 0 1 1\n",
      "0 0 0 1 0 1\n",
      "0 0 0 1 1 1\n",
      "0 0 1 0 0 1\n",
      "0 0 1 0 1 1\n",
      "0 0 1 1 0 1\n",
      "0 0 1 1 1 1\n",
      "0 1 0 0 0 0\n",
      "0 1 0 0 1 0\n",
      "0 1 0 1 0 0\n",
      "0 1 0 1 1 0\n",
      "0 1 1 0 0 1\n",
      "0 1 1 0 1 0\n",
      "0 1 1 1 0 0\n",
      "0 1 1 1 1 0\n",
      "1 * * * * 0\n",
      "\n",
      "hash: 010FF\n"
     ]
    }
   ],
   "source": [
    "truthtable.simplify()\n",
    "print(truthtable)\n",
    "print(f\"hash: {truthtable.get_hash()}\")"
   ]
  },
  {
   "cell_type": "code",
   "execution_count": 7,
   "metadata": {},
   "outputs": [
    {
     "name": "stdout",
     "output_type": "stream",
     "text": [
      "((¬A ∧ ¬B ∧ ¬C ∧ ¬D ∧ ¬E) ∨ (¬A ∧ ¬B ∧ ¬C ∧ ¬D ∧ E) ∨ (¬A ∧ ¬B ∧ ¬C ∧ D ∧ ¬E) ∨ (¬A ∧ ¬B ∧ ¬C ∧ D ∧ E) ∨ (¬A ∧ ¬B ∧ C ∧ ¬D ∧ ¬E) ∨ (¬A ∧ ¬B ∧ C ∧ ¬D ∧ E) ∨ (¬A ∧ ¬B ∧ C ∧ D ∧ ¬E) ∨ (¬A ∧ ¬B ∧ C ∧ D ∧ E) ∨ (¬A ∧ B ∧ C ∧ ¬D ∧ ¬E))\n",
      "A B C D E result\n",
      "0 0 0 0 0 1\n",
      "0 0 0 0 1 1\n",
      "0 0 0 1 0 1\n",
      "0 0 0 1 1 1\n",
      "0 0 1 0 0 1\n",
      "0 0 1 0 1 1\n",
      "0 0 1 1 0 1\n",
      "0 0 1 1 1 1\n",
      "0 1 0 0 0 0\n",
      "0 1 0 0 1 0\n",
      "0 1 0 1 0 0\n",
      "0 1 0 1 1 0\n",
      "0 1 1 0 0 1\n",
      "0 1 1 0 1 0\n",
      "0 1 1 1 0 0\n",
      "0 1 1 1 1 0\n",
      "1 * * * * 0\n",
      "\n",
      "hash: 010FF\n"
     ]
    }
   ],
   "source": [
    "dnf_prop = truthtable.dnf()\n",
    "print(dnf_prop.infix())\n",
    "\n",
    "dnf_truthtable = TruthTable(dnf_prop)\n",
    "dnf_truthtable.simplify()\n",
    "print(dnf_truthtable)\n",
    "print(f\"hash: {dnf_truthtable.get_hash()}\")"
   ]
  },
  {
   "cell_type": "markdown",
   "metadata": {},
   "source": [
    "# Bigger test cases"
   ]
  },
  {
   "cell_type": "code",
   "execution_count": 8,
   "metadata": {},
   "outputs": [],
   "source": [
    "def print_details(prop1, prop2):\n",
    "    tt1 = TruthTable(prop1)\n",
    "    tt2 = TruthTable(prop2)\n",
    "\n",
    "    print(prop1.infix())\n",
    "    print(prop1.ascii())\n",
    "    print(tt1)\n",
    "    print(\"hash: \" + tt1.get_hash())\n",
    "    print(prop2.infix())\n",
    "    print(prop2.ascii())\n",
    "    print(tt2)\n",
    "    print(\"hash: \" + tt2.get_hash())"
   ]
  },
  {
   "cell_type": "code",
   "execution_count": 9,
   "metadata": {},
   "outputs": [
    {
     "name": "stdout",
     "output_type": "stream",
     "text": [
      "start with: =(&(A,C),B)\n",
      "analysis - hash: 93 - infix: ((A ∧ C) <=> B)\n",
      "analysis - hash: 93 - infix: (((A ∧ C) ∧ B) ∨ (¬(A ∧ C) ∧ ¬B))\n",
      "analysis - hash: 7 - infix: (¬A ∨ ¬C)\n",
      "Props MultiOr: ~(A),~(C)\n",
      "in NOT (and): |(~(A),~(C))\n",
      "analysis - hash: 7 - infix: (¬A ∨ ¬C)\n",
      "in NOT after (and): *|([~(A),~(C)])\n",
      "analysis - hash: 7 - infix: (¬A ∨ ¬C)\n",
      "Props MultiOr: &(A,&(C,B)),&(|(~(A),~(C)),~(B))\n",
      "analysis - hash: F - infix: (A ∨ (¬A ∨ ¬C))\n",
      "analysis - hash: 7 - infix: (¬A ∨ ¬C)\n",
      "Props MultiOr: ~(A),~(C)\n",
      "Props MultiOr: A,|(~(A),~(C))\n",
      "analysis - hash: D - infix: (A ∨ ¬B)\n",
      "Props MultiOr: A,~(B)\n",
      "analysis - hash: F - infix: (C ∨ (¬A ∨ ¬C))\n",
      "analysis - hash: 7 - infix: (¬A ∨ ¬C)\n",
      "Props MultiOr: ~(A),~(C)\n",
      "Props MultiOr: C,|(~(A),~(C))\n",
      "analysis - hash: B - infix: (C ∨ ¬B)\n",
      "Props MultiOr: C,~(B)\n",
      "analysis - hash: DF - infix: (B ∨ (¬A ∨ ¬C))\n",
      "analysis - hash: 7 - infix: (¬A ∨ ¬C)\n",
      "Props MultiOr: ~(A),~(C)\n",
      "Props MultiOr: B,|(~(A),~(C))\n",
      "analysis - hash: 3 - infix: (B ∨ ¬B)\n",
      "Props MultiOr: B,~(B)\n",
      "*&([*|([A,~(A),~(C)]),*|([A,~(B)]),*|([C,~(A),~(C)]),*|([C,~(B)]),*|([B,~(A),~(C)]),*|([B,~(B)])])\n",
      "analysis - hash: 93 - infix: ((A ∨ ¬A ∨ ¬C) ∧ (A ∨ ¬B) ∧ (C ∨ ¬A ∨ ¬C) ∧ (C ∨ ¬B) ∧ (B ∨ ¬A ∨ ¬C) ∧ (B ∨ ¬B))\n",
      "before contradiction removal: *&([*|([A,~(A),~(C)]),*|([A,~(B)]),*|([C,~(A),~(C)]),*|([C,~(B)]),*|([B,~(A),~(C)]),*|([B,~(B)])])\n",
      "analysis - hash: 93 - infix: ((A ∨ ¬A ∨ ¬C) ∧ (A ∨ ¬B) ∧ (C ∨ ¬A ∨ ¬C) ∧ (C ∨ ¬B) ∧ (B ∨ ¬A ∨ ¬C) ∧ (B ∨ ¬B))\n",
      "after contradiction removal: *&([*|([A,~(B)]),*|([C,~(B)]),*|([B,~(A),~(C)])])\n",
      "analysis - hash: 93 - infix: ((A ∨ ¬B) ∧ (C ∨ ¬B) ∧ (B ∨ ¬A ∨ ¬C))\n",
      "((A ∧ C) <=> B)\n",
      "=(&(A,C),B)\n",
      "A B C result\n",
      "0 0 0 1\n",
      "0 0 1 1\n",
      "0 1 0 0\n",
      "0 1 1 0\n",
      "1 0 0 1\n",
      "1 0 1 0\n",
      "1 1 0 0\n",
      "1 1 1 1\n",
      "\n",
      "hash: 93\n",
      "((A ∨ ¬B) ∧ (C ∨ ¬B) ∧ (B ∨ ¬A ∨ ¬C))\n",
      "&(|(A,~(B)),&(|(C,~(B)),|(B,|(~(A),~(C)))))\n",
      "A B C result\n",
      "0 0 0 1\n",
      "0 0 1 1\n",
      "0 1 0 0\n",
      "0 1 1 0\n",
      "1 0 0 1\n",
      "1 0 1 0\n",
      "1 1 0 0\n",
      "1 1 1 1\n",
      "\n",
      "hash: 93\n"
     ]
    }
   ],
   "source": [
    "# prop = PropositionParser(\"~(~(=(~(~(&(A,C))),B)))\").read()\n",
    "prop = PropositionParser(\"=(&(A,C),B)\").read()\n",
    "\n",
    "tfunc = lambda x : print(f\"{x}\")\n",
    "analysis_hash = lambda prop : print(f\"analysis - hash: {TruthTable(prop).get_hash()} - infix: {prop.infix()}\")\n",
    "analyzing_functions = [analysis_hash]\n",
    "prop_cnf = prop.cnf(debugger=Debugger(trace_function=tfunc, analyzing_functions=analyzing_functions))\n",
    "print_details(prop, prop_cnf) "
   ]
  },
  {
   "cell_type": "code",
   "execution_count": 10,
   "metadata": {},
   "outputs": [
    {
     "name": "stdout",
     "output_type": "stream",
     "text": [
      "((A ∧ C) <=> B)\n",
      "=(&(A,C),B)\n",
      "A B C result\n",
      "0 0 0 1\n",
      "0 0 1 1\n",
      "0 1 0 0\n",
      "0 1 1 0\n",
      "1 0 0 1\n",
      "1 0 1 0\n",
      "1 1 0 0\n",
      "1 1 1 1\n",
      "\n",
      "hash: 93\n",
      "(((A ∧ C) ∧ B) ∨ (¬(A ∧ C) ∧ ¬B))\n",
      "|(&(&(A,C),B),&(~(&(A,C)),~(B)))\n",
      "A B C result\n",
      "0 0 0 1\n",
      "0 0 1 1\n",
      "0 1 0 0\n",
      "0 1 1 0\n",
      "1 0 0 1\n",
      "1 0 1 0\n",
      "1 1 0 0\n",
      "1 1 1 1\n",
      "\n",
      "hash: 93\n"
     ]
    }
   ],
   "source": [
    "print_details(prop, PropositionParser(\"|(&(&(A,C),B),&(~(&(A,C)),~(B)))\").read())"
   ]
  },
  {
   "cell_type": "code",
   "execution_count": 11,
   "metadata": {},
   "outputs": [
    {
     "name": "stdout",
     "output_type": "stream",
     "text": [
      "Expected hash: 96\n",
      "start with: =(A,=(B,C))\n",
      "analysis - hash: 96 - infix: (A <=> (B <=> C))\n",
      "analysis - hash: 96 - infix: ((A ∧ (B <=> C)) ∨ (¬A ∧ ¬(B <=> C)))\n",
      "analysis - hash: 9 - infix: ((B ∧ C) ∨ (¬B ∧ ¬C))\n",
      "Props MultiOr: &(B,C),&(~(B),~(C))\n",
      "analysis - hash: 3 - infix: (B ∨ ¬B)\n",
      "Props MultiOr: B,~(B)\n",
      "analysis - hash: D - infix: (B ∨ ¬C)\n",
      "Props MultiOr: B,~(C)\n",
      "analysis - hash: B - infix: (C ∨ ¬B)\n",
      "Props MultiOr: C,~(B)\n",
      "analysis - hash: 3 - infix: (C ∨ ¬C)\n",
      "Props MultiOr: C,~(C)\n",
      "*&([*|([B,~(B)]),*|([B,~(C)]),*|([C,~(B)]),*|([C,~(C)])])\n",
      "analysis - hash: 9 - infix: ((B ∨ ¬B) ∧ (B ∨ ¬C) ∧ (C ∨ ¬B) ∧ (C ∨ ¬C))\n",
      "analysis - hash: 9 - infix: ((B ∧ C) ∨ (¬B ∧ ¬C))\n",
      "Props MultiOr: &(B,C),&(~(B),~(C))\n",
      "analysis - hash: 3 - infix: (B ∨ ¬B)\n",
      "Props MultiOr: B,~(B)\n",
      "analysis - hash: D - infix: (B ∨ ¬C)\n",
      "Props MultiOr: B,~(C)\n",
      "analysis - hash: B - infix: (C ∨ ¬B)\n",
      "Props MultiOr: C,~(B)\n",
      "analysis - hash: 3 - infix: (C ∨ ¬C)\n",
      "Props MultiOr: C,~(C)\n",
      "*&([*|([B,~(B)]),*|([B,~(C)]),*|([C,~(B)]),*|([C,~(C)])])\n",
      "analysis - hash: 9 - infix: ((B ∨ ¬B) ∧ (B ∨ ¬C) ∧ (C ∨ ¬B) ∧ (C ∨ ¬C))\n"
     ]
    },
    {
     "ename": "ValueError",
     "evalue": "Cant merge more than two ands in a MultiOr\nGot: &(~(B),B);&(~(B),C);&(~(C),B);&(~(C),C)",
     "output_type": "error",
     "traceback": [
      "\u001b[1;31m---------------------------------------------------------------------------\u001b[0m",
      "\u001b[1;31mValueError\u001b[0m                                Traceback (most recent call last)",
      "\u001b[1;32m~\\AppData\\Local\\Temp/ipykernel_9080/2328830046.py\u001b[0m in \u001b[0;36m<module>\u001b[1;34m\u001b[0m\n\u001b[0;32m      3\u001b[0m \u001b[1;31m# prop = PropositionParser(\"=(&(A,C),B)\").read()\u001b[0m\u001b[1;33m\u001b[0m\u001b[1;33m\u001b[0m\u001b[0m\n\u001b[0;32m      4\u001b[0m \u001b[0mprint\u001b[0m\u001b[1;33m(\u001b[0m\u001b[1;34mf\"Expected hash: {TruthTable(prop).get_hash()}\"\u001b[0m\u001b[1;33m)\u001b[0m\u001b[1;33m\u001b[0m\u001b[1;33m\u001b[0m\u001b[0m\n\u001b[1;32m----> 5\u001b[1;33m prop_cnf = prop.cnf(\n\u001b[0m\u001b[0;32m      6\u001b[0m     debugger=Debugger(\n\u001b[0;32m      7\u001b[0m         \u001b[0mtrace_function\u001b[0m\u001b[1;33m=\u001b[0m\u001b[0mtfunc\u001b[0m\u001b[1;33m,\u001b[0m\u001b[1;33m\u001b[0m\u001b[1;33m\u001b[0m\u001b[0m\n",
      "\u001b[1;32mc:\\Users\\jurje\\OneDrive\\Documenten\\APS\\FP2 (DS)\\ALE1\\src\\proposition.py\u001b[0m in \u001b[0;36mcnf\u001b[1;34m(self, debugger)\u001b[0m\n\u001b[0;32m     37\u001b[0m         \u001b[0mdebugger\u001b[0m\u001b[1;33m.\u001b[0m\u001b[0manalyse\u001b[0m\u001b[1;33m(\u001b[0m\u001b[0mself\u001b[0m\u001b[1;33m)\u001b[0m\u001b[1;33m\u001b[0m\u001b[1;33m\u001b[0m\u001b[0m\n\u001b[0;32m     38\u001b[0m \u001b[1;33m\u001b[0m\u001b[0m\n\u001b[1;32m---> 39\u001b[1;33m         \u001b[0mres\u001b[0m \u001b[1;33m=\u001b[0m \u001b[0mself\u001b[0m\u001b[1;33m.\u001b[0m\u001b[0mcnf_inner\u001b[0m\u001b[1;33m(\u001b[0m\u001b[0mdebugger\u001b[0m\u001b[1;33m=\u001b[0m\u001b[0mdebugger\u001b[0m\u001b[1;33m)\u001b[0m\u001b[1;33m\u001b[0m\u001b[1;33m\u001b[0m\u001b[0m\n\u001b[0m\u001b[0;32m     40\u001b[0m         \u001b[1;32mif\u001b[0m \u001b[0mtype\u001b[0m\u001b[1;33m(\u001b[0m\u001b[0mres\u001b[0m\u001b[1;33m)\u001b[0m \u001b[1;32mis\u001b[0m \u001b[1;32mnot\u001b[0m \u001b[0mMultiAnd\u001b[0m\u001b[1;33m:\u001b[0m\u001b[1;33m\u001b[0m\u001b[1;33m\u001b[0m\u001b[0m\n\u001b[0;32m     41\u001b[0m             \u001b[0mres\u001b[0m \u001b[1;33m=\u001b[0m \u001b[0mMultiAnd\u001b[0m\u001b[1;33m(\u001b[0m\u001b[1;33m[\u001b[0m\u001b[0mres\u001b[0m\u001b[1;33m]\u001b[0m\u001b[1;33m)\u001b[0m\u001b[1;33m\u001b[0m\u001b[1;33m\u001b[0m\u001b[0m\n",
      "\u001b[1;32mc:\\Users\\jurje\\OneDrive\\Documenten\\APS\\FP2 (DS)\\ALE1\\src\\proposition.py\u001b[0m in \u001b[0;36mcnf_inner\u001b[1;34m(self, debugger)\u001b[0m\n\u001b[0;32m    512\u001b[0m             )\n\u001b[0;32m    513\u001b[0m         )\n\u001b[1;32m--> 514\u001b[1;33m         \u001b[0mres\u001b[0m \u001b[1;33m=\u001b[0m \u001b[0mreformat\u001b[0m\u001b[1;33m.\u001b[0m\u001b[0mcnf_inner\u001b[0m\u001b[1;33m(\u001b[0m\u001b[0mdebugger\u001b[0m\u001b[1;33m)\u001b[0m\u001b[1;33m\u001b[0m\u001b[1;33m\u001b[0m\u001b[0m\n\u001b[0m\u001b[0;32m    515\u001b[0m         \u001b[1;32mif\u001b[0m \u001b[0mdebugger\u001b[0m \u001b[1;32mis\u001b[0m \u001b[1;32mnot\u001b[0m \u001b[1;32mNone\u001b[0m\u001b[1;33m:\u001b[0m\u001b[1;33m\u001b[0m\u001b[1;33m\u001b[0m\u001b[0m\n\u001b[0;32m    516\u001b[0m             \u001b[0mdebugger\u001b[0m\u001b[1;33m.\u001b[0m\u001b[0mtrace\u001b[0m\u001b[1;33m(\u001b[0m\u001b[0mres\u001b[0m\u001b[1;33m.\u001b[0m\u001b[0mascii_complex\u001b[0m\u001b[1;33m(\u001b[0m\u001b[1;33m)\u001b[0m\u001b[1;33m)\u001b[0m\u001b[1;33m\u001b[0m\u001b[1;33m\u001b[0m\u001b[0m\n",
      "\u001b[1;32mc:\\Users\\jurje\\OneDrive\\Documenten\\APS\\FP2 (DS)\\ALE1\\src\\proposition.py\u001b[0m in \u001b[0;36mcnf_inner\u001b[1;34m(self, debugger)\u001b[0m\n\u001b[0;32m    401\u001b[0m     \u001b[1;32mdef\u001b[0m \u001b[0mcnf_inner\u001b[0m\u001b[1;33m(\u001b[0m\u001b[0mself\u001b[0m\u001b[1;33m,\u001b[0m\u001b[0mdebugger\u001b[0m\u001b[1;33m=\u001b[0m\u001b[0mNoDebug\u001b[0m\u001b[1;33m(\u001b[0m\u001b[1;33m)\u001b[0m\u001b[1;33m)\u001b[0m\u001b[1;33m:\u001b[0m\u001b[1;33m\u001b[0m\u001b[1;33m\u001b[0m\u001b[0m\n\u001b[0;32m    402\u001b[0m \u001b[1;33m\u001b[0m\u001b[0m\n\u001b[1;32m--> 403\u001b[1;33m         \u001b[1;32mreturn\u001b[0m \u001b[0mMultiOr\u001b[0m\u001b[1;33m(\u001b[0m\u001b[1;33m[\u001b[0m\u001b[0mself\u001b[0m\u001b[1;33m.\u001b[0m\u001b[0mproposition_a\u001b[0m\u001b[1;33m,\u001b[0m \u001b[0mself\u001b[0m\u001b[1;33m.\u001b[0m\u001b[0mproposition_b\u001b[0m\u001b[1;33m]\u001b[0m\u001b[1;33m)\u001b[0m\u001b[1;33m.\u001b[0m\u001b[0mcnf_inner\u001b[0m\u001b[1;33m(\u001b[0m\u001b[0mdebugger\u001b[0m\u001b[1;33m)\u001b[0m\u001b[1;33m\u001b[0m\u001b[1;33m\u001b[0m\u001b[0m\n\u001b[0m\u001b[0;32m    404\u001b[0m \u001b[1;33m\u001b[0m\u001b[0m\n\u001b[0;32m    405\u001b[0m         \u001b[0mand_props\u001b[0m \u001b[1;33m=\u001b[0m \u001b[1;33m[\u001b[0m\u001b[1;33m]\u001b[0m\u001b[1;33m\u001b[0m\u001b[1;33m\u001b[0m\u001b[0m\n",
      "\u001b[1;32mc:\\Users\\jurje\\OneDrive\\Documenten\\APS\\FP2 (DS)\\ALE1\\src\\proposition.py\u001b[0m in \u001b[0;36mcnf_inner\u001b[1;34m(self, debugger)\u001b[0m\n\u001b[0;32m    242\u001b[0m         \u001b[0mdebugger\u001b[0m\u001b[1;33m.\u001b[0m\u001b[0manalyse\u001b[0m\u001b[1;33m(\u001b[0m\u001b[0mself\u001b[0m\u001b[1;33m)\u001b[0m\u001b[1;33m\u001b[0m\u001b[1;33m\u001b[0m\u001b[0m\n\u001b[0;32m    243\u001b[0m \u001b[1;33m\u001b[0m\u001b[0m\n\u001b[1;32m--> 244\u001b[1;33m         \u001b[0mprops\u001b[0m \u001b[1;33m=\u001b[0m \u001b[1;33m[\u001b[0m\u001b[0mp\u001b[0m\u001b[1;33m.\u001b[0m\u001b[0mcnf_inner\u001b[0m\u001b[1;33m(\u001b[0m\u001b[0mdebugger\u001b[0m\u001b[1;33m)\u001b[0m \u001b[1;32mfor\u001b[0m \u001b[0mp\u001b[0m \u001b[1;32min\u001b[0m \u001b[0mself\u001b[0m\u001b[1;33m.\u001b[0m\u001b[0mget_sub_propositions\u001b[0m\u001b[1;33m(\u001b[0m\u001b[1;33m)\u001b[0m\u001b[1;33m]\u001b[0m\u001b[1;33m\u001b[0m\u001b[1;33m\u001b[0m\u001b[0m\n\u001b[0m\u001b[0;32m    245\u001b[0m         \u001b[0mmerged_props\u001b[0m \u001b[1;33m=\u001b[0m \u001b[1;33m[\u001b[0m\u001b[1;33m]\u001b[0m\u001b[1;33m\u001b[0m\u001b[1;33m\u001b[0m\u001b[0m\n\u001b[0;32m    246\u001b[0m \u001b[1;33m\u001b[0m\u001b[0m\n",
      "\u001b[1;32mc:\\Users\\jurje\\OneDrive\\Documenten\\APS\\FP2 (DS)\\ALE1\\src\\proposition.py\u001b[0m in \u001b[0;36m<listcomp>\u001b[1;34m(.0)\u001b[0m\n\u001b[0;32m    242\u001b[0m         \u001b[0mdebugger\u001b[0m\u001b[1;33m.\u001b[0m\u001b[0manalyse\u001b[0m\u001b[1;33m(\u001b[0m\u001b[0mself\u001b[0m\u001b[1;33m)\u001b[0m\u001b[1;33m\u001b[0m\u001b[1;33m\u001b[0m\u001b[0m\n\u001b[0;32m    243\u001b[0m \u001b[1;33m\u001b[0m\u001b[0m\n\u001b[1;32m--> 244\u001b[1;33m         \u001b[0mprops\u001b[0m \u001b[1;33m=\u001b[0m \u001b[1;33m[\u001b[0m\u001b[0mp\u001b[0m\u001b[1;33m.\u001b[0m\u001b[0mcnf_inner\u001b[0m\u001b[1;33m(\u001b[0m\u001b[0mdebugger\u001b[0m\u001b[1;33m)\u001b[0m \u001b[1;32mfor\u001b[0m \u001b[0mp\u001b[0m \u001b[1;32min\u001b[0m \u001b[0mself\u001b[0m\u001b[1;33m.\u001b[0m\u001b[0mget_sub_propositions\u001b[0m\u001b[1;33m(\u001b[0m\u001b[1;33m)\u001b[0m\u001b[1;33m]\u001b[0m\u001b[1;33m\u001b[0m\u001b[1;33m\u001b[0m\u001b[0m\n\u001b[0m\u001b[0;32m    245\u001b[0m         \u001b[0mmerged_props\u001b[0m \u001b[1;33m=\u001b[0m \u001b[1;33m[\u001b[0m\u001b[1;33m]\u001b[0m\u001b[1;33m\u001b[0m\u001b[1;33m\u001b[0m\u001b[0m\n\u001b[0;32m    246\u001b[0m \u001b[1;33m\u001b[0m\u001b[0m\n",
      "\u001b[1;32mc:\\Users\\jurje\\OneDrive\\Documenten\\APS\\FP2 (DS)\\ALE1\\src\\proposition.py\u001b[0m in \u001b[0;36mcnf_inner\u001b[1;34m(self, debugger)\u001b[0m\n\u001b[0;32m    364\u001b[0m             \u001b[1;32mraise\u001b[0m \u001b[0mValueError\u001b[0m\u001b[1;33m(\u001b[0m\u001b[1;34m\"Propositions in strategies not defined\"\u001b[0m\u001b[1;33m)\u001b[0m\u001b[1;33m\u001b[0m\u001b[1;33m\u001b[0m\u001b[0m\n\u001b[0;32m    365\u001b[0m \u001b[1;33m\u001b[0m\u001b[0m\n\u001b[1;32m--> 366\u001b[1;33m         \u001b[1;32mreturn\u001b[0m \u001b[0mMultiAnd\u001b[0m\u001b[1;33m(\u001b[0m\u001b[1;33m[\u001b[0m\u001b[0mself\u001b[0m\u001b[1;33m.\u001b[0m\u001b[0mproposition_a\u001b[0m\u001b[1;33m,\u001b[0m \u001b[0mself\u001b[0m\u001b[1;33m.\u001b[0m\u001b[0mproposition_b\u001b[0m\u001b[1;33m]\u001b[0m\u001b[1;33m)\u001b[0m\u001b[1;33m.\u001b[0m\u001b[0mcnf_inner\u001b[0m\u001b[1;33m(\u001b[0m\u001b[0mdebugger\u001b[0m\u001b[1;33m)\u001b[0m\u001b[1;33m\u001b[0m\u001b[1;33m\u001b[0m\u001b[0m\n\u001b[0m\u001b[0;32m    367\u001b[0m \u001b[1;33m\u001b[0m\u001b[0m\n\u001b[0;32m    368\u001b[0m         \u001b[0mpa\u001b[0m \u001b[1;33m=\u001b[0m \u001b[0mself\u001b[0m\u001b[1;33m.\u001b[0m\u001b[0mproposition_a\u001b[0m\u001b[1;33m.\u001b[0m\u001b[0mcnf_inner\u001b[0m\u001b[1;33m(\u001b[0m\u001b[0mdebugger\u001b[0m\u001b[1;33m)\u001b[0m\u001b[1;33m\u001b[0m\u001b[1;33m\u001b[0m\u001b[0m\n",
      "\u001b[1;32mc:\\Users\\jurje\\OneDrive\\Documenten\\APS\\FP2 (DS)\\ALE1\\src\\proposition.py\u001b[0m in \u001b[0;36mcnf_inner\u001b[1;34m(self, debugger)\u001b[0m\n\u001b[0;32m    192\u001b[0m \u001b[1;33m\u001b[0m\u001b[0m\n\u001b[0;32m    193\u001b[0m         \u001b[1;32mfor\u001b[0m \u001b[0mprop\u001b[0m \u001b[1;32min\u001b[0m \u001b[0mprops\u001b[0m\u001b[1;33m:\u001b[0m\u001b[1;33m\u001b[0m\u001b[1;33m\u001b[0m\u001b[0m\n\u001b[1;32m--> 194\u001b[1;33m             \u001b[0mcnf_prop\u001b[0m \u001b[1;33m=\u001b[0m \u001b[0mprop\u001b[0m\u001b[1;33m.\u001b[0m\u001b[0mcnf_inner\u001b[0m\u001b[1;33m(\u001b[0m\u001b[0mdebugger\u001b[0m\u001b[1;33m)\u001b[0m\u001b[1;33m\u001b[0m\u001b[1;33m\u001b[0m\u001b[0m\n\u001b[0m\u001b[0;32m    195\u001b[0m             \u001b[1;32mif\u001b[0m \u001b[0mtype\u001b[0m\u001b[1;33m(\u001b[0m\u001b[0mcnf_prop\u001b[0m\u001b[1;33m)\u001b[0m \u001b[1;32mis\u001b[0m \u001b[0mAndProposition\u001b[0m\u001b[1;33m:\u001b[0m\u001b[1;33m\u001b[0m\u001b[1;33m\u001b[0m\u001b[0m\n\u001b[0;32m    196\u001b[0m                 \u001b[0mand_props\u001b[0m \u001b[1;33m+=\u001b[0m \u001b[1;33m[\u001b[0m\u001b[0mcnf_prop\u001b[0m\u001b[1;33m.\u001b[0m\u001b[0mproposition_a\u001b[0m\u001b[1;33m,\u001b[0m \u001b[0mcnf_prop\u001b[0m\u001b[1;33m.\u001b[0m\u001b[0mproposition_b\u001b[0m\u001b[1;33m]\u001b[0m\u001b[1;33m\u001b[0m\u001b[1;33m\u001b[0m\u001b[0m\n",
      "\u001b[1;32mc:\\Users\\jurje\\OneDrive\\Documenten\\APS\\FP2 (DS)\\ALE1\\src\\proposition.py\u001b[0m in \u001b[0;36mcnf_inner\u001b[1;34m(self, debugger)\u001b[0m\n\u001b[0;32m    590\u001b[0m                 \u001b[1;32mreturn\u001b[0m \u001b[0mres_cnf\u001b[0m\u001b[1;33m\u001b[0m\u001b[1;33m\u001b[0m\u001b[0m\n\u001b[0;32m    591\u001b[0m             \u001b[1;32melse\u001b[0m\u001b[1;33m:\u001b[0m\u001b[1;33m\u001b[0m\u001b[1;33m\u001b[0m\u001b[0m\n\u001b[1;32m--> 592\u001b[1;33m                 \u001b[1;32mreturn\u001b[0m \u001b[0mNotProposition\u001b[0m\u001b[1;33m(\u001b[0m\u001b[0mself\u001b[0m\u001b[1;33m.\u001b[0m\u001b[0mproposition_a\u001b[0m\u001b[1;33m.\u001b[0m\u001b[0mcnf_inner\u001b[0m\u001b[1;33m(\u001b[0m\u001b[0mdebugger\u001b[0m\u001b[1;33m)\u001b[0m\u001b[1;33m)\u001b[0m\u001b[1;33m.\u001b[0m\u001b[0mcnf_inner\u001b[0m\u001b[1;33m(\u001b[0m\u001b[0mdebugger\u001b[0m\u001b[1;33m)\u001b[0m\u001b[1;33m\u001b[0m\u001b[1;33m\u001b[0m\u001b[0m\n\u001b[0m\u001b[0;32m    593\u001b[0m             \u001b[1;32mraise\u001b[0m \u001b[0mException\u001b[0m\u001b[1;33m(\u001b[0m\u001b[1;34m\"Unsupported operator\"\u001b[0m\u001b[1;33m)\u001b[0m\u001b[1;33m\u001b[0m\u001b[1;33m\u001b[0m\u001b[0m\n\u001b[0;32m    594\u001b[0m         \u001b[1;32melif\u001b[0m \u001b[0missubclass\u001b[0m\u001b[1;33m(\u001b[0m\u001b[0mpa_type\u001b[0m\u001b[1;33m,\u001b[0m \u001b[0mExtendedProposition\u001b[0m\u001b[1;33m)\u001b[0m\u001b[1;33m:\u001b[0m\u001b[1;33m\u001b[0m\u001b[1;33m\u001b[0m\u001b[0m\n",
      "\u001b[1;32mc:\\Users\\jurje\\OneDrive\\Documenten\\APS\\FP2 (DS)\\ALE1\\src\\proposition.py\u001b[0m in \u001b[0;36mcnf_inner\u001b[1;34m(self, debugger)\u001b[0m\n\u001b[0;32m    596\u001b[0m             \u001b[0mprops\u001b[0m \u001b[1;33m=\u001b[0m \u001b[1;33m[\u001b[0m\u001b[0mNotProposition\u001b[0m\u001b[1;33m(\u001b[0m\u001b[0mp\u001b[0m\u001b[1;33m)\u001b[0m \u001b[1;32mfor\u001b[0m \u001b[0mp\u001b[0m \u001b[1;32min\u001b[0m \u001b[0mold_props\u001b[0m\u001b[1;33m]\u001b[0m\u001b[1;33m\u001b[0m\u001b[1;33m\u001b[0m\u001b[0m\n\u001b[0;32m    597\u001b[0m             \u001b[0mres\u001b[0m \u001b[1;33m=\u001b[0m \u001b[0mMultiAnd\u001b[0m\u001b[1;33m(\u001b[0m\u001b[0mprops\u001b[0m\u001b[1;33m)\u001b[0m \u001b[1;32mif\u001b[0m \u001b[0mpa_type\u001b[0m \u001b[1;33m==\u001b[0m \u001b[0mMultiOr\u001b[0m \u001b[1;32melse\u001b[0m \u001b[0mMultiOr\u001b[0m\u001b[1;33m(\u001b[0m\u001b[0mprops\u001b[0m\u001b[1;33m)\u001b[0m\u001b[1;33m\u001b[0m\u001b[1;33m\u001b[0m\u001b[0m\n\u001b[1;32m--> 598\u001b[1;33m             \u001b[0mres_cnf\u001b[0m \u001b[1;33m=\u001b[0m \u001b[0mres\u001b[0m\u001b[1;33m.\u001b[0m\u001b[0mcnf\u001b[0m\u001b[1;33m(\u001b[0m\u001b[1;33m)\u001b[0m\u001b[1;33m\u001b[0m\u001b[1;33m\u001b[0m\u001b[0m\n\u001b[0m\u001b[0;32m    599\u001b[0m \u001b[1;33m\u001b[0m\u001b[0m\n\u001b[0;32m    600\u001b[0m             \u001b[1;32mif\u001b[0m \u001b[0mdebugger\u001b[0m \u001b[1;32mis\u001b[0m \u001b[1;32mnot\u001b[0m \u001b[1;32mNone\u001b[0m\u001b[1;33m:\u001b[0m\u001b[1;33m\u001b[0m\u001b[1;33m\u001b[0m\u001b[0m\n",
      "\u001b[1;32mc:\\Users\\jurje\\OneDrive\\Documenten\\APS\\FP2 (DS)\\ALE1\\src\\proposition.py\u001b[0m in \u001b[0;36mcnf\u001b[1;34m(self, debugger)\u001b[0m\n\u001b[0;32m     37\u001b[0m         \u001b[0mdebugger\u001b[0m\u001b[1;33m.\u001b[0m\u001b[0manalyse\u001b[0m\u001b[1;33m(\u001b[0m\u001b[0mself\u001b[0m\u001b[1;33m)\u001b[0m\u001b[1;33m\u001b[0m\u001b[1;33m\u001b[0m\u001b[0m\n\u001b[0;32m     38\u001b[0m \u001b[1;33m\u001b[0m\u001b[0m\n\u001b[1;32m---> 39\u001b[1;33m         \u001b[0mres\u001b[0m \u001b[1;33m=\u001b[0m \u001b[0mself\u001b[0m\u001b[1;33m.\u001b[0m\u001b[0mcnf_inner\u001b[0m\u001b[1;33m(\u001b[0m\u001b[0mdebugger\u001b[0m\u001b[1;33m=\u001b[0m\u001b[0mdebugger\u001b[0m\u001b[1;33m)\u001b[0m\u001b[1;33m\u001b[0m\u001b[1;33m\u001b[0m\u001b[0m\n\u001b[0m\u001b[0;32m     40\u001b[0m         \u001b[1;32mif\u001b[0m \u001b[0mtype\u001b[0m\u001b[1;33m(\u001b[0m\u001b[0mres\u001b[0m\u001b[1;33m)\u001b[0m \u001b[1;32mis\u001b[0m \u001b[1;32mnot\u001b[0m \u001b[0mMultiAnd\u001b[0m\u001b[1;33m:\u001b[0m\u001b[1;33m\u001b[0m\u001b[1;33m\u001b[0m\u001b[0m\n\u001b[0;32m     41\u001b[0m             \u001b[0mres\u001b[0m \u001b[1;33m=\u001b[0m \u001b[0mMultiAnd\u001b[0m\u001b[1;33m(\u001b[0m\u001b[1;33m[\u001b[0m\u001b[0mres\u001b[0m\u001b[1;33m]\u001b[0m\u001b[1;33m)\u001b[0m\u001b[1;33m\u001b[0m\u001b[1;33m\u001b[0m\u001b[0m\n",
      "\u001b[1;32mc:\\Users\\jurje\\OneDrive\\Documenten\\APS\\FP2 (DS)\\ALE1\\src\\proposition.py\u001b[0m in \u001b[0;36mcnf_inner\u001b[1;34m(self, debugger)\u001b[0m\n\u001b[0;32m    257\u001b[0m         \u001b[1;32mif\u001b[0m \u001b[0mtype\u001b[0m\u001b[1;33m(\u001b[0m\u001b[0mmerged_props\u001b[0m\u001b[1;33m[\u001b[0m\u001b[1;36m0\u001b[0m\u001b[1;33m]\u001b[0m\u001b[1;33m)\u001b[0m \u001b[1;33m==\u001b[0m \u001b[0mMultiAnd\u001b[0m \u001b[1;32mor\u001b[0m \u001b[0mtype\u001b[0m\u001b[1;33m(\u001b[0m\u001b[0mmerged_props\u001b[0m\u001b[1;33m[\u001b[0m\u001b[1;36m1\u001b[0m\u001b[1;33m]\u001b[0m\u001b[1;33m)\u001b[0m \u001b[1;33m==\u001b[0m \u001b[0mMultiAnd\u001b[0m\u001b[1;33m:\u001b[0m\u001b[1;33m\u001b[0m\u001b[1;33m\u001b[0m\u001b[0m\n\u001b[0;32m    258\u001b[0m             \u001b[1;32mif\u001b[0m \u001b[0mlen\u001b[0m\u001b[1;33m(\u001b[0m\u001b[0mmerged_props\u001b[0m\u001b[1;33m)\u001b[0m \u001b[1;33m>\u001b[0m \u001b[1;36m2\u001b[0m\u001b[1;33m:\u001b[0m\u001b[1;33m\u001b[0m\u001b[1;33m\u001b[0m\u001b[0m\n\u001b[1;32m--> 259\u001b[1;33m                 raise ValueError(f\"Cant merge more than two ands in a MultiOr\\n\"\n\u001b[0m\u001b[0;32m    260\u001b[0m                     + f\"Got: { ';'.join([str(p) for p in merged_props])}\")\n\u001b[0;32m    261\u001b[0m \u001b[1;33m\u001b[0m\u001b[0m\n",
      "\u001b[1;31mValueError\u001b[0m: Cant merge more than two ands in a MultiOr\nGot: &(~(B),B);&(~(B),C);&(~(C),B);&(~(C),C)"
     ]
    }
   ],
   "source": [
    "from equality_tester import *\n",
    "prop = PropositionParser(\"=(A,=(B,C))\").read()\n",
    "# prop = PropositionParser(\"=(&(A,C),B)\").read()\n",
    "print(f\"Expected hash: {TruthTable(prop).get_hash()}\")\n",
    "prop_cnf = prop.cnf(\n",
    "    debugger=Debugger(\n",
    "        trace_function=tfunc, \n",
    "        analyzing_functions=analyzing_functions\n",
    "    ))\n",
    "\n",
    "print(f\"cnf notation: {prop_cnf.cnf_notation()}\")"
   ]
  }
 ],
 "metadata": {
  "interpreter": {
   "hash": "883c4abf4a0508d0816d710d3d2bf12d5dead1f2acd091a24a7c12c2b379361b"
  },
  "kernelspec": {
   "display_name": "Python 3.9.7 64-bit",
   "name": "python3"
  },
  "language_info": {
   "codemirror_mode": {
    "name": "ipython",
    "version": 3
   },
   "file_extension": ".py",
   "mimetype": "text/x-python",
   "name": "python",
   "nbconvert_exporter": "python",
   "pygments_lexer": "ipython3",
   "version": "3.9.7"
  },
  "orig_nbformat": 4
 },
 "nbformat": 4,
 "nbformat_minor": 2
}
