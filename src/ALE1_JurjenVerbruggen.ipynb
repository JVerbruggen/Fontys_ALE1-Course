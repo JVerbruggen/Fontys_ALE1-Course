{
 "cells": [
  {
   "cell_type": "markdown",
   "metadata": {},
   "source": [
    "## PReader (old)\n",
    "I couldn't make the PReader class be just a recursive algorithm. For long strings, this would mean that the stack would get very big. Some sort of buffer would have to prevent the stack from getting too big while also keeping the right order of characters. \n",
    "\n",
    "I created a char array from the string and a cursor. The cursor is a position indicator for which character is being read. In addition we would have to check for certain trigger characters, like operators for starting a new operation, parentheses to capture the operation in, and letters that would be variables. Taking this into account, we should also create a stack for read operations up until the current character. We would then interpret the operator when a closing parenthesis occurs."
   ]
  },
  {
   "cell_type": "markdown",
   "metadata": {},
   "source": [
    "## Testing arena below"
   ]
  },
  {
   "cell_type": "code",
   "execution_count": 36,
   "metadata": {},
   "outputs": [
    {
     "name": "stdout",
     "output_type": "stream",
     "text": [
      "|(|(A,B),C)\n",
      "((A ∨ B) ∨ C)\n"
     ]
    }
   ],
   "source": [
    "from proposition import *\n",
    "from proposition_parsing import *\n",
    "from proposition_export import *\n",
    "from hashing import *\n",
    "from truthtable import *\n",
    "from debugger import *\n",
    "\n",
    "prop = OrProposition(OrProposition(Variable('A'), Variable('B')),\n",
    "    Variable('C')\n",
    ")\n",
    "\n",
    "print(prop)\n",
    "print(prop.infix())"
   ]
  },
  {
   "cell_type": "code",
   "execution_count": 37,
   "metadata": {},
   "outputs": [
    {
     "name": "stdout",
     "output_type": "stream",
     "text": [
      "A B C result\n",
      "0 0 0 0\n",
      "0 0 1 1\n",
      "0 1 0 1\n",
      "0 1 1 1\n",
      "1 0 0 1\n",
      "1 0 1 1\n",
      "1 1 0 1\n",
      "1 1 1 1\n",
      "\n"
     ]
    }
   ],
   "source": [
    "truthtable = TruthTable(prop)\n",
    "\n",
    "print(truthtable)"
   ]
  },
  {
   "cell_type": "code",
   "execution_count": 38,
   "metadata": {},
   "outputs": [
    {
     "name": "stdout",
     "output_type": "stream",
     "text": [
      "A B C result\n",
      "0 0 0 0\n",
      "* * 1 1\n",
      "* 1 * 1\n",
      "1 * * 1\n",
      "\n"
     ]
    }
   ],
   "source": [
    "simplified_truthtable = truthtable.simplify()\n",
    "\n",
    "print(simplified_truthtable)"
   ]
  },
  {
   "cell_type": "code",
   "execution_count": 39,
   "metadata": {},
   "outputs": [
    {
     "name": "stdout",
     "output_type": "stream",
     "text": [
      "1110\n",
      "E\n"
     ]
    }
   ],
   "source": [
    "print(simplified_truthtable.get_binary_string())\n",
    "print(simplified_truthtable.get_hash())"
   ]
  },
  {
   "cell_type": "code",
   "execution_count": 40,
   "metadata": {},
   "outputs": [
    {
     "name": "stdout",
     "output_type": "stream",
     "text": [
      "(¬A ∧ ((C => (D ∨ E)) => ¬B))\n",
      "A B C D E result\n",
      "0 0 0 0 0 1\n",
      "0 0 0 0 1 1\n",
      "0 0 0 1 0 1\n",
      "0 0 0 1 1 1\n",
      "0 0 1 0 0 1\n",
      "0 0 1 0 1 1\n",
      "0 0 1 1 0 1\n",
      "0 0 1 1 1 1\n",
      "0 1 0 0 0 0\n",
      "0 1 0 0 1 0\n",
      "0 1 0 1 0 0\n",
      "0 1 0 1 1 0\n",
      "0 1 1 0 0 1\n",
      "0 1 1 0 1 0\n",
      "0 1 1 1 0 0\n",
      "0 1 1 1 1 0\n",
      "1 0 0 0 0 0\n",
      "1 0 0 0 1 0\n",
      "1 0 0 1 0 0\n",
      "1 0 0 1 1 0\n",
      "1 0 1 0 0 0\n",
      "1 0 1 0 1 0\n",
      "1 0 1 1 0 0\n",
      "1 0 1 1 1 0\n",
      "1 1 0 0 0 0\n",
      "1 1 0 0 1 0\n",
      "1 1 0 1 0 0\n",
      "1 1 0 1 1 0\n",
      "1 1 1 0 0 0\n",
      "1 1 1 0 1 0\n",
      "1 1 1 1 0 0\n",
      "1 1 1 1 1 0\n",
      "\n"
     ]
    }
   ],
   "source": [
    "prop = PropositionParser(\"&(~(A),>(>(C,|(D,E)),~(B)))\").read()\n",
    "print(prop.infix())\n",
    "\n",
    "truthtable = TruthTable(prop)\n",
    "print(truthtable)"
   ]
  },
  {
   "cell_type": "code",
   "execution_count": 41,
   "metadata": {},
   "outputs": [
    {
     "name": "stdout",
     "output_type": "stream",
     "text": [
      "A B C D E result\n",
      "0 0 0 0 0 1\n",
      "0 0 0 0 1 1\n",
      "0 0 0 1 0 1\n",
      "0 0 0 1 1 1\n",
      "0 0 1 0 0 1\n",
      "0 0 1 0 1 1\n",
      "0 0 1 1 0 1\n",
      "0 0 1 1 1 1\n",
      "0 1 0 0 0 0\n",
      "0 1 0 0 1 0\n",
      "0 1 0 1 0 0\n",
      "0 1 0 1 1 0\n",
      "0 1 1 0 0 1\n",
      "0 1 1 0 1 0\n",
      "0 1 1 1 0 0\n",
      "0 1 1 1 1 0\n",
      "1 * * * * 0\n",
      "\n",
      "hash: 010FF\n"
     ]
    }
   ],
   "source": [
    "truthtable.simplify()\n",
    "print(truthtable)\n",
    "print(f\"hash: {truthtable.get_hash()}\")"
   ]
  },
  {
   "cell_type": "code",
   "execution_count": 42,
   "metadata": {},
   "outputs": [
    {
     "name": "stdout",
     "output_type": "stream",
     "text": [
      "((¬A ∧ ¬B ∧ ¬C ∧ ¬D ∧ ¬E) ∨ (¬A ∧ ¬B ∧ ¬C ∧ ¬D ∧ E) ∨ (¬A ∧ ¬B ∧ ¬C ∧ D ∧ ¬E) ∨ (¬A ∧ ¬B ∧ ¬C ∧ D ∧ E) ∨ (¬A ∧ ¬B ∧ C ∧ ¬D ∧ ¬E) ∨ (¬A ∧ ¬B ∧ C ∧ ¬D ∧ E) ∨ (¬A ∧ ¬B ∧ C ∧ D ∧ ¬E) ∨ (¬A ∧ ¬B ∧ C ∧ D ∧ E) ∨ (¬A ∧ B ∧ C ∧ ¬D ∧ ¬E))\n",
      "A B C D E result\n",
      "0 0 0 0 0 1\n",
      "0 0 0 0 1 1\n",
      "0 0 0 1 0 1\n",
      "0 0 0 1 1 1\n",
      "0 0 1 0 0 1\n",
      "0 0 1 0 1 1\n",
      "0 0 1 1 0 1\n",
      "0 0 1 1 1 1\n",
      "0 1 0 0 0 0\n",
      "0 1 0 0 1 0\n",
      "0 1 0 1 0 0\n",
      "0 1 0 1 1 0\n",
      "0 1 1 0 0 1\n",
      "0 1 1 0 1 0\n",
      "0 1 1 1 0 0\n",
      "0 1 1 1 1 0\n",
      "1 * * * * 0\n",
      "\n",
      "hash: 010FF\n"
     ]
    }
   ],
   "source": [
    "dnf_prop = truthtable.dnf()\n",
    "print(dnf_prop.infix())\n",
    "\n",
    "dnf_truthtable = TruthTable(dnf_prop)\n",
    "dnf_truthtable.simplify()\n",
    "print(dnf_truthtable)\n",
    "print(f\"hash: {dnf_truthtable.get_hash()}\")"
   ]
  },
  {
   "cell_type": "markdown",
   "metadata": {},
   "source": [
    "# Bigger test cases"
   ]
  },
  {
   "cell_type": "code",
   "execution_count": 43,
   "metadata": {},
   "outputs": [],
   "source": [
    "def print_details(prop1, prop2):\n",
    "    tt1 = TruthTable(prop1)\n",
    "    tt2 = TruthTable(prop2)\n",
    "\n",
    "    print(prop1.infix())\n",
    "    print(prop1.ascii())\n",
    "    print(tt1)\n",
    "    print(\"hash: \" + tt1.get_hash())\n",
    "    print(prop2.infix())\n",
    "    print(prop2.ascii())\n",
    "    print(tt2)\n",
    "    print(\"hash: \" + tt2.get_hash())"
   ]
  },
  {
   "cell_type": "code",
   "execution_count": 49,
   "metadata": {},
   "outputs": [
    {
     "name": "stdout",
     "output_type": "stream",
     "text": [
      "start with: =(&(A,C),B)\n",
      "analysis - hash: 93 - infix: ((A ∧ C) <=> B) - ascii: =(&(A,C),B)\n",
      "removed biimpl: |(&(&(A,C),B),&(~(&(A,C)),~(B)))\n",
      "analysis - hash: 93 - infix: (((A ∧ C) ∧ B) ∨ (¬(A ∧ C) ∧ ¬B)) - ascii: |(&(&(A,C),B),&(~(&(A,C)),~(B)))\n",
      "removed impl: |(&(&(A,C),B),&(~(&(A,C)),~(B)))\n",
      "analysis - hash: 93 - infix: (((A ∧ C) ∧ B) ∨ (¬(A ∧ C) ∧ ¬B)) - ascii: |(&(&(A,C),B),&(~(&(A,C)),~(B)))\n",
      "removed nots: |(&(&(A,C),B),&(|(~(A),~(C)),~(B)))\n",
      "analysis - hash: 93 - infix: (((A ∧ C) ∧ B) ∨ ((¬A ∨ ¬C) ∧ ¬B)) - ascii: |(&(&(A,C),B),&(|(~(A),~(C)),~(B)))\n",
      "after distribution: *&([|(A,|(~(A),~(C))),|(A,~(B)),|(C,|(~(A),~(C))),|(C,~(B)),|(B,|(~(A),~(C))),|(B,~(B))])\n",
      "analysis - hash: 93 - infix: ((A ∨ (¬A ∨ ¬C)) ∧ (A ∨ ¬B) ∧ (C ∨ (¬A ∨ ¬C)) ∧ (C ∨ ¬B) ∧ (B ∨ (¬A ∨ ¬C)) ∧ (B ∨ ¬B)) - ascii: *&([|(A,|(~(A),~(C))),|(A,~(B)),|(C,|(~(A),~(C))),|(C,~(B)),|(B,|(~(A),~(C))),|(B,~(B))])\n",
      "merged ors: *&([*|([A,~(A),~(C)]),*|([A,~(B)]),*|([C,~(A),~(C)]),*|([C,~(B)]),*|([B,~(A),~(C)]),*|([B,~(B)])])\n",
      "analysis - hash: 93 - infix: ((A ∨ ¬A ∨ ¬C) ∧ (A ∨ ¬B) ∧ (C ∨ ¬A ∨ ¬C) ∧ (C ∨ ¬B) ∧ (B ∨ ¬A ∨ ¬C) ∧ (B ∨ ¬B)) - ascii: *&([*|([A,~(A),~(C)]),*|([A,~(B)]),*|([C,~(A),~(C)]),*|([C,~(B)]),*|([B,~(A),~(C)]),*|([B,~(B)])])\n",
      "removed contradictions: *&([*|([A,~(B)]),*|([C,~(B)]),*|([B,~(A),~(C)])])\n",
      "analysis - hash: 93 - infix: ((A ∨ ¬B) ∧ (C ∨ ¬B) ∧ (B ∨ ¬A ∨ ¬C)) - ascii: *&([*|([A,~(B)]),*|([C,~(B)]),*|([B,~(A),~(C)])])\n"
     ]
    }
   ],
   "source": [
    "# prop = PropositionParser(\"~(~(=(~(~(&(A,C))),B)))\").read()\n",
    "prop = PropositionParser(\"=(&(A,C),B)\").read()\n",
    "\n",
    "tfunc = lambda x : print(f\"{x}\")\n",
    "analysis_hash = lambda prop : print(f\"analysis - hash: {TruthTable(prop).get_hash()} - infix: {prop.infix()} - ascii: {prop.ascii_complex()}\")\n",
    "analyzing_functions = [analysis_hash]\n",
    "my_debugger = Debugger(\n",
    "        trace_function=tfunc, \n",
    "        analyzing_functions=analyzing_functions\n",
    "    )\n",
    "\n",
    "debugger_only_hash = Debugger(\n",
    "        trace_function=lambda x : x, \n",
    "        analyzing_functions=[lambda p : print(f\"hash: {TruthTable(p).get_hash()}\")]\n",
    "    )\n",
    "\n",
    "prop_cnf = prop.cnf(\n",
    "    debugger=my_debugger)\n",
    "# print_details(prop, prop_cnf) "
   ]
  },
  {
   "cell_type": "code",
   "execution_count": 50,
   "metadata": {},
   "outputs": [],
   "source": [
    "# print_details(prop, PropositionParser(\"|(&(&(A,C),B),&(~(&(A,C)),~(B)))\").read())"
   ]
  },
  {
   "cell_type": "code",
   "execution_count": 51,
   "metadata": {},
   "outputs": [
    {
     "name": "stdout",
     "output_type": "stream",
     "text": [
      "Expected hash: BA10\n",
      "start with: =(>(A,~(D)),&(~(~(B)),~(|(C,D))))\n",
      "analysis - hash: BA10 - infix: ((A => ¬D) <=> (¬¬B ∧ ¬(C ∨ D))) - ascii: =(>(A,~(D)),&(~(~(B)),~(|(C,D))))\n",
      "removed biimpl: |(&(>(A,~(D)),&(~(~(B)),~(|(C,D)))),&(~(>(A,~(D))),~(&(~(~(B)),~(|(C,D))))))\n",
      "analysis - hash: BA10 - infix: (((A => ¬D) ∧ (¬¬B ∧ ¬(C ∨ D))) ∨ (¬(A => ¬D) ∧ ¬(¬¬B ∧ ¬(C ∨ D)))) - ascii: |(&(>(A,~(D)),&(~(~(B)),~(|(C,D)))),&(~(>(A,~(D))),~(&(~(~(B)),~(|(C,D))))))\n",
      "removed impl: |(&(|(~(A),~(D)),&(~(~(B)),~(|(C,D)))),&(~(|(~(A),~(D))),~(&(~(~(B)),~(|(C,D))))))\n",
      "analysis - hash: BA10 - infix: (((¬A ∨ ¬D) ∧ (¬¬B ∧ ¬(C ∨ D))) ∨ (¬(¬A ∨ ¬D) ∧ ¬(¬¬B ∧ ¬(C ∨ D)))) - ascii: |(&(|(~(A),~(D)),&(~(~(B)),~(|(C,D)))),&(~(|(~(A),~(D))),~(&(~(~(B)),~(|(C,D))))))\n",
      "removed nots: |(&(|(~(A),~(D)),&(B,&(~(C),~(D)))),&(&(A,D),|(~(B),|(C,D))))\n",
      "analysis - hash: BA10 - infix: (((¬A ∨ ¬D) ∧ (B ∧ (¬C ∧ ¬D))) ∨ ((A ∧ D) ∧ (¬B ∨ (C ∨ D)))) - ascii: |(&(|(~(A),~(D)),&(B,&(~(C),~(D)))),&(&(A,D),|(~(B),|(C,D))))\n",
      "after distribution: *&([|(|(~(A),~(D)),A),|(|(~(A),~(D)),D),|(|(~(A),~(D)),|(~(B),|(C,D))),|(B,A),|(B,D),|(B,|(~(B),|(C,D))),|(~(C),A),|(~(C),D),|(~(C),|(~(B),|(C,D))),|(~(D),A),|(~(D),D),|(~(D),|(~(B),|(C,D)))])\n",
      "analysis - hash: BA10 - infix: (((¬A ∨ ¬D) ∨ A) ∧ ((¬A ∨ ¬D) ∨ D) ∧ ((¬A ∨ ¬D) ∨ (¬B ∨ (C ∨ D))) ∧ (B ∨ A) ∧ (B ∨ D) ∧ (B ∨ (¬B ∨ (C ∨ D))) ∧ (¬C ∨ A) ∧ (¬C ∨ D) ∧ (¬C ∨ (¬B ∨ (C ∨ D))) ∧ (¬D ∨ A) ∧ (¬D ∨ D) ∧ (¬D ∨ (¬B ∨ (C ∨ D)))) - ascii: *&([|(|(~(A),~(D)),A),|(|(~(A),~(D)),D),|(|(~(A),~(D)),|(~(B),|(C,D))),|(B,A),|(B,D),|(B,|(~(B),|(C,D))),|(~(C),A),|(~(C),D),|(~(C),|(~(B),|(C,D))),|(~(D),A),|(~(D),D),|(~(D),|(~(B),|(C,D)))])\n",
      "merged ors: *&([*|([~(A),~(D),A]),*|([~(A),~(D),D]),*|([~(A),~(D),~(B),C,D]),*|([B,A]),*|([B,D]),*|([B,~(B),C,D]),*|([~(C),A]),*|([~(C),D]),*|([~(C),~(B),C,D]),*|([~(D),A]),*|([~(D),D]),*|([~(D),~(B),C,D])])\n",
      "analysis - hash: BA10 - infix: ((¬A ∨ ¬D ∨ A) ∧ (¬A ∨ ¬D ∨ D) ∧ (¬A ∨ ¬D ∨ ¬B ∨ C ∨ D) ∧ (B ∨ A) ∧ (B ∨ D) ∧ (B ∨ ¬B ∨ C ∨ D) ∧ (¬C ∨ A) ∧ (¬C ∨ D) ∧ (¬C ∨ ¬B ∨ C ∨ D) ∧ (¬D ∨ A) ∧ (¬D ∨ D) ∧ (¬D ∨ ¬B ∨ C ∨ D)) - ascii: *&([*|([~(A),~(D),A]),*|([~(A),~(D),D]),*|([~(A),~(D),~(B),C,D]),*|([B,A]),*|([B,D]),*|([B,~(B),C,D]),*|([~(C),A]),*|([~(C),D]),*|([~(C),~(B),C,D]),*|([~(D),A]),*|([~(D),D]),*|([~(D),~(B),C,D])])\n",
      "removed contradictions: *&([*|([B,A]),*|([B,D]),*|([~(C),A]),*|([~(C),D]),*|([~(D),A])])\n",
      "analysis - hash: BA10 - infix: ((B ∨ A) ∧ (B ∨ D) ∧ (¬C ∨ A) ∧ (¬C ∨ D) ∧ (¬D ∨ A)) - ascii: *&([*|([B,A]),*|([B,D]),*|([~(C),A]),*|([~(C),D]),*|([~(D),A])])\n"
     ]
    }
   ],
   "source": [
    "from equality_tester import *\n",
    "# prop = PropositionParser(\"=(&(A,C),B)\").read()\n",
    "prop = PropositionParser(\"=(>(A,~(D)),&(~(~(B)),~(|(C,D))))\").read()\n",
    "# prop = PropositionParser(\"&(E,=(A,|(&(B,C),&(D,~(C)))))\").read()\n",
    "print(f\"Expected hash: {TruthTable(prop).get_hash()}\")\n",
    "prop_cnf = prop.cnf(\n",
    "    debugger=my_debugger)\n",
    "\n",
    "# print(TruthTable(prop))\n",
    "\n",
    "# print(f\"cnf notation: {prop_cnf.cnf_notation()}\")"
   ]
  },
  {
   "cell_type": "code",
   "execution_count": 52,
   "metadata": {},
   "outputs": [
    {
     "name": "stdout",
     "output_type": "stream",
     "text": [
      "(E ∧ (A ∨ ¬B ∨ ¬C) ∧ (A ∨ ¬D ∨ C) ∧ (B ∨ D ∨ ¬A) ∧ (B ∨ ¬C ∨ ¬A) ∧ (C ∨ D ∨ ¬A))\n",
      "Hash: A80802A2\n"
     ]
    }
   ],
   "source": [
    "prop = PropositionCNFFormatParser(\"[ E , Abc , AdC , BDa , Bca , CDa ]\").read()\n",
    "print(prop.infix())\n",
    "print(f\"Hash: {TruthTable(prop).get_hash()}\")"
   ]
  },
  {
   "cell_type": "markdown",
   "metadata": {},
   "source": [
    "# Tseitin"
   ]
  },
  {
   "cell_type": "code",
   "execution_count": 54,
   "metadata": {},
   "outputs": [
    {
     "name": "stdout",
     "output_type": "stream",
     "text": [
      "original : ((¬s ∧ p) <=> ((q => r) ∨ ¬p))\n",
      "tseitin start with: =(&(~(s),p),|(>(q,r),~(p)))\n",
      "analysis - hash: 6500 - infix: ((¬s ∧ p) <=> ((q => r) ∨ ¬p)) - ascii: =(&(~(s),p),|(>(q,r),~(p)))\n",
      "after tseitin repl: *&([A,=(A,=(B,C)),=(B,&(~(s),p)),=(C,|(D,~(p))),=(D,>(q,r))])\n",
      "analysis - hash: 4500000000000000000000000000200000000000000000000000000000000000 - infix: (A ∧ (A <=> (B <=> C)) ∧ (B <=> (¬s ∧ p)) ∧ (C <=> (D ∨ ¬p)) ∧ (D <=> (q => r))) - ascii: *&([A,=(A,=(B,C)),=(B,&(~(s),p)),=(C,|(D,~(p))),=(D,>(q,r))])\n",
      "tseitin  : (A ∧ (A <=> (B <=> C)) ∧ (B <=> (¬s ∧ p)) ∧ (C <=> (D ∨ ¬p)) ∧ (D <=> (q => r)))\n",
      "cnf'ed   : (A ∧ (A ∨ ¬B ∨ ¬C) ∧ (A ∨ B ∨ C) ∧ (B ∨ ¬C ∨ ¬A) ∧ (C ∨ ¬B ∨ ¬A) ∧ (B ∨ s ∨ ¬p) ∧ (¬s ∨ ¬B) ∧ (p ∨ ¬B) ∧ (C ∨ ¬D) ∧ (C ∨ p) ∧ (D ∨ ¬p ∨ ¬C) ∧ (D ∨ q) ∧ (D ∨ ¬r) ∧ (¬q ∨ r ∨ ¬D))\n"
     ]
    }
   ],
   "source": [
    "prop = PropositionParser(\"=(&(~(s),p),|(>(q,r),~(p)))\").read()\n",
    "print(f\"original : {prop.infix()}\")\n",
    "\n",
    "tseitin = prop.tseitin(debugger=my_debugger)\n",
    "print(f\"tseitin  : {tseitin.infix()}\")\n",
    "\n",
    "tseitin_cnf = tseitin.cnf()\n",
    "print(f\"cnf'ed   : {tseitin_cnf.infix()}\")\n",
    "# print(f\"cnf'ed   : {tseitin_cnf.ascii_complex()}\")"
   ]
  },
  {
   "cell_type": "code",
   "execution_count": 55,
   "metadata": {},
   "outputs": [
    {
     "name": "stdout",
     "output_type": "stream",
     "text": [
      "original : ((p ∨ q) => (p ∧ ¬r))\n",
      "tseitin start with: >(|(p,q),&(p,~(r)))\n",
      "analysis - hash: 53 - infix: ((p ∨ q) => (p ∧ ¬r)) - ascii: >(|(p,q),&(p,~(r)))\n",
      "after tseitin repl: *&([A,=(A,>(B,C)),=(B,|(p,q)),=(C,&(p,~(r)))])\n",
      "analysis - hash: 5000000300000000 - infix: (A ∧ (A <=> (B => C)) ∧ (B <=> (p ∨ q)) ∧ (C <=> (p ∧ ¬r))) - ascii: *&([A,=(A,>(B,C)),=(B,|(p,q)),=(C,&(p,~(r)))])\n",
      "tseitin  : (A ∧ (A <=> (B => C)) ∧ (B <=> (p ∨ q)) ∧ (C <=> (p ∧ ¬r)))\n",
      "cnf'ed   : (A ∧ (A ∨ B) ∧ (A ∨ ¬C) ∧ (¬B ∨ C ∨ ¬A) ∧ (B ∨ ¬p) ∧ (B ∨ ¬q) ∧ (p ∨ q ∨ ¬B) ∧ (C ∨ ¬p ∨ r) ∧ (p ∨ ¬C) ∧ (¬r ∨ ¬C))\n"
     ]
    }
   ],
   "source": [
    "prop = PropositionParser(\">(|(p,q),&(p,~(r)))\").read()\n",
    "print(f\"original : {prop.infix()}\")\n",
    "\n",
    "tseitin = prop.tseitin(debugger=my_debugger)\n",
    "print(f\"tseitin  : {tseitin.infix()}\")\n",
    "\n",
    "tseitin_cnf = tseitin.cnf()\n",
    "print(f\"cnf'ed   : {tseitin_cnf.infix()}\")"
   ]
  }
 ],
 "metadata": {
  "interpreter": {
   "hash": "883c4abf4a0508d0816d710d3d2bf12d5dead1f2acd091a24a7c12c2b379361b"
  },
  "kernelspec": {
   "display_name": "Python 3.9.7 64-bit",
   "name": "python3"
  },
  "language_info": {
   "codemirror_mode": {
    "name": "ipython",
    "version": 3
   },
   "file_extension": ".py",
   "mimetype": "text/x-python",
   "name": "python",
   "nbconvert_exporter": "python",
   "pygments_lexer": "ipython3",
   "version": "3.9.7"
  },
  "orig_nbformat": 4
 },
 "nbformat": 4,
 "nbformat_minor": 2
}
